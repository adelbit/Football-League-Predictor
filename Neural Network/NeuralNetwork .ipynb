{
 "cells": [
  {
   "cell_type": "code",
   "execution_count": 1,
   "metadata": {},
   "outputs": [
    {
     "name": "stderr",
     "output_type": "stream",
     "text": [
      "C:\\Users\\Binvant\\anaconda3\\lib\\site-packages\\tensorflow\\python\\framework\\dtypes.py:526: FutureWarning: Passing (type, 1) or '1type' as a synonym of type is deprecated; in a future version of numpy, it will be understood as (type, (1,)) / '(1,)type'.\n",
      "  _np_qint8 = np.dtype([(\"qint8\", np.int8, 1)])\n",
      "C:\\Users\\Binvant\\anaconda3\\lib\\site-packages\\tensorflow\\python\\framework\\dtypes.py:527: FutureWarning: Passing (type, 1) or '1type' as a synonym of type is deprecated; in a future version of numpy, it will be understood as (type, (1,)) / '(1,)type'.\n",
      "  _np_quint8 = np.dtype([(\"quint8\", np.uint8, 1)])\n",
      "C:\\Users\\Binvant\\anaconda3\\lib\\site-packages\\tensorflow\\python\\framework\\dtypes.py:528: FutureWarning: Passing (type, 1) or '1type' as a synonym of type is deprecated; in a future version of numpy, it will be understood as (type, (1,)) / '(1,)type'.\n",
      "  _np_qint16 = np.dtype([(\"qint16\", np.int16, 1)])\n",
      "C:\\Users\\Binvant\\anaconda3\\lib\\site-packages\\tensorflow\\python\\framework\\dtypes.py:529: FutureWarning: Passing (type, 1) or '1type' as a synonym of type is deprecated; in a future version of numpy, it will be understood as (type, (1,)) / '(1,)type'.\n",
      "  _np_quint16 = np.dtype([(\"quint16\", np.uint16, 1)])\n",
      "C:\\Users\\Binvant\\anaconda3\\lib\\site-packages\\tensorflow\\python\\framework\\dtypes.py:530: FutureWarning: Passing (type, 1) or '1type' as a synonym of type is deprecated; in a future version of numpy, it will be understood as (type, (1,)) / '(1,)type'.\n",
      "  _np_qint32 = np.dtype([(\"qint32\", np.int32, 1)])\n",
      "C:\\Users\\Binvant\\anaconda3\\lib\\site-packages\\tensorflow\\python\\framework\\dtypes.py:535: FutureWarning: Passing (type, 1) or '1type' as a synonym of type is deprecated; in a future version of numpy, it will be understood as (type, (1,)) / '(1,)type'.\n",
      "  np_resource = np.dtype([(\"resource\", np.ubyte, 1)])\n",
      "Using TensorFlow backend.\n"
     ]
    }
   ],
   "source": [
    "import pandas as pd\n",
    "import seaborn as sns\n",
    "import math\n",
    "import numpy as np\n",
    "import matplotlib.pyplot as plt\n",
    "import tensorflow as tf\n",
    "from tensorflow import keras\n",
    "from keras import layers\n",
    "from keras.layers import Dense"
   ]
  },
  {
   "cell_type": "markdown",
   "metadata": {},
   "source": [
    "### Importing the EPL dataset"
   ]
  },
  {
   "cell_type": "code",
   "execution_count": 2,
   "metadata": {},
   "outputs": [],
   "source": [
    "data = pd.read_csv(\"EPL_Set.csv\")"
   ]
  },
  {
   "cell_type": "markdown",
   "metadata": {},
   "source": [
    "### Data exploration to check for NaN values and fill them"
   ]
  },
  {
   "cell_type": "code",
   "execution_count": 3,
   "metadata": {},
   "outputs": [
    {
     "data": {
      "text/html": [
       "<div>\n",
       "<style scoped>\n",
       "    .dataframe tbody tr th:only-of-type {\n",
       "        vertical-align: middle;\n",
       "    }\n",
       "\n",
       "    .dataframe tbody tr th {\n",
       "        vertical-align: top;\n",
       "    }\n",
       "\n",
       "    .dataframe thead th {\n",
       "        text-align: right;\n",
       "    }\n",
       "</style>\n",
       "<table border=\"1\" class=\"dataframe\">\n",
       "  <thead>\n",
       "    <tr style=\"text-align: right;\">\n",
       "      <th></th>\n",
       "      <th>Div</th>\n",
       "      <th>Date</th>\n",
       "      <th>HomeTeam</th>\n",
       "      <th>AwayTeam</th>\n",
       "      <th>FTHG</th>\n",
       "      <th>FTAG</th>\n",
       "      <th>FTR</th>\n",
       "      <th>HTHG</th>\n",
       "      <th>HTAG</th>\n",
       "      <th>HTR</th>\n",
       "      <th>Season</th>\n",
       "    </tr>\n",
       "  </thead>\n",
       "  <tbody>\n",
       "    <tr>\n",
       "      <th>0</th>\n",
       "      <td>E0</td>\n",
       "      <td>14/08/93</td>\n",
       "      <td>Arsenal</td>\n",
       "      <td>Coventry</td>\n",
       "      <td>0</td>\n",
       "      <td>3</td>\n",
       "      <td>A</td>\n",
       "      <td>NaN</td>\n",
       "      <td>NaN</td>\n",
       "      <td>NaN</td>\n",
       "      <td>1993-94</td>\n",
       "    </tr>\n",
       "    <tr>\n",
       "      <th>1</th>\n",
       "      <td>E0</td>\n",
       "      <td>14/08/93</td>\n",
       "      <td>Aston Villa</td>\n",
       "      <td>QPR</td>\n",
       "      <td>4</td>\n",
       "      <td>1</td>\n",
       "      <td>H</td>\n",
       "      <td>NaN</td>\n",
       "      <td>NaN</td>\n",
       "      <td>NaN</td>\n",
       "      <td>1993-94</td>\n",
       "    </tr>\n",
       "    <tr>\n",
       "      <th>2</th>\n",
       "      <td>E0</td>\n",
       "      <td>14/08/93</td>\n",
       "      <td>Chelsea</td>\n",
       "      <td>Blackburn</td>\n",
       "      <td>1</td>\n",
       "      <td>2</td>\n",
       "      <td>A</td>\n",
       "      <td>NaN</td>\n",
       "      <td>NaN</td>\n",
       "      <td>NaN</td>\n",
       "      <td>1993-94</td>\n",
       "    </tr>\n",
       "    <tr>\n",
       "      <th>3</th>\n",
       "      <td>E0</td>\n",
       "      <td>14/08/93</td>\n",
       "      <td>Liverpool</td>\n",
       "      <td>Sheffield Weds</td>\n",
       "      <td>2</td>\n",
       "      <td>0</td>\n",
       "      <td>H</td>\n",
       "      <td>NaN</td>\n",
       "      <td>NaN</td>\n",
       "      <td>NaN</td>\n",
       "      <td>1993-94</td>\n",
       "    </tr>\n",
       "    <tr>\n",
       "      <th>4</th>\n",
       "      <td>E0</td>\n",
       "      <td>14/08/93</td>\n",
       "      <td>Man City</td>\n",
       "      <td>Leeds</td>\n",
       "      <td>1</td>\n",
       "      <td>1</td>\n",
       "      <td>D</td>\n",
       "      <td>NaN</td>\n",
       "      <td>NaN</td>\n",
       "      <td>NaN</td>\n",
       "      <td>1993-94</td>\n",
       "    </tr>\n",
       "  </tbody>\n",
       "</table>\n",
       "</div>"
      ],
      "text/plain": [
       "  Div      Date     HomeTeam        AwayTeam  FTHG  FTAG FTR  HTHG  HTAG  HTR  \\\n",
       "0  E0  14/08/93      Arsenal        Coventry     0     3   A   NaN   NaN  NaN   \n",
       "1  E0  14/08/93  Aston Villa             QPR     4     1   H   NaN   NaN  NaN   \n",
       "2  E0  14/08/93      Chelsea       Blackburn     1     2   A   NaN   NaN  NaN   \n",
       "3  E0  14/08/93    Liverpool  Sheffield Weds     2     0   H   NaN   NaN  NaN   \n",
       "4  E0  14/08/93     Man City           Leeds     1     1   D   NaN   NaN  NaN   \n",
       "\n",
       "    Season  \n",
       "0  1993-94  \n",
       "1  1993-94  \n",
       "2  1993-94  \n",
       "3  1993-94  \n",
       "4  1993-94  "
      ]
     },
     "execution_count": 3,
     "metadata": {},
     "output_type": "execute_result"
    }
   ],
   "source": [
    "data.head()"
   ]
  },
  {
   "cell_type": "code",
   "execution_count": 4,
   "metadata": {},
   "outputs": [
    {
     "name": "stdout",
     "output_type": "stream",
     "text": [
      "<class 'pandas.core.frame.DataFrame'>\n",
      "RangeIndex: 9664 entries, 0 to 9663\n",
      "Data columns (total 11 columns):\n",
      " #   Column    Non-Null Count  Dtype  \n",
      "---  ------    --------------  -----  \n",
      " 0   Div       9664 non-null   object \n",
      " 1   Date      9664 non-null   object \n",
      " 2   HomeTeam  9664 non-null   object \n",
      " 3   AwayTeam  9664 non-null   object \n",
      " 4   FTHG      9664 non-null   int64  \n",
      " 5   FTAG      9664 non-null   int64  \n",
      " 6   FTR       9664 non-null   object \n",
      " 7   HTHG      8740 non-null   float64\n",
      " 8   HTAG      8740 non-null   float64\n",
      " 9   HTR       8740 non-null   object \n",
      " 10  Season    9664 non-null   object \n",
      "dtypes: float64(2), int64(2), object(7)\n",
      "memory usage: 830.6+ KB\n"
     ]
    }
   ],
   "source": [
    "data.info()"
   ]
  },
  {
   "cell_type": "markdown",
   "metadata": {},
   "source": [
    " We find that the columns \"HTHG\", \"HTAG\" and \"HTR\" are incomplete and plot a heatmap of the dataset below to visualize them better."
   ]
  },
  {
   "cell_type": "code",
   "execution_count": 5,
   "metadata": {},
   "outputs": [
    {
     "data": {
      "text/plain": [
       "<matplotlib.axes._subplots.AxesSubplot at 0x189ea9451c8>"
      ]
     },
     "execution_count": 5,
     "metadata": {},
     "output_type": "execute_result"
    },
    {
     "data": {
      "image/png": "[encoded data removed]",
      "text/plain": [
       "<Figure size 432x288 with 1 Axes>"
      ]
     },
     "metadata": {
      "needs_background": "light"
     },
     "output_type": "display_data"
    }
   ],
   "source": [
    "sns.heatmap(data.isnull(),cmap=\"viridis\",yticklabels=False,cbar=False)"
   ]
  },
  {
   "cell_type": "markdown",
   "metadata": {},
   "source": [
    "\n",
    "We fill the \"HTHG\" and \"HTAG\" columns having NaN values with the mean value of the respective coloumns and then perform some data corrections to omit any abnormality. "
   ]
  },
  {
   "cell_type": "code",
   "execution_count": 6,
   "metadata": {},
   "outputs": [],
   "source": [
    "data[\"HTHG\"]=data[\"HTHG\"].fillna(value=math.ceil(data[\"HTHG\"].mean()))"
   ]
  },
  {
   "cell_type": "code",
   "execution_count": 7,
   "metadata": {},
   "outputs": [],
   "source": [
    "data[\"HTAG\"]=data[\"HTAG\"].fillna(value=math.ceil(data[\"HTAG\"].mean()))"
   ]
  },
  {
   "cell_type": "code",
   "execution_count": 8,
   "metadata": {},
   "outputs": [],
   "source": [
    "def hthg(cols):\n",
    "    HTHG=cols[0]\n",
    "    FTHG=cols[1]\n",
    "    if FTHG == 0:\n",
    "        return 0\n",
    "    else:\n",
    "        return HTHG"
   ]
  },
  {
   "cell_type": "code",
   "execution_count": 9,
   "metadata": {},
   "outputs": [],
   "source": [
    "def htag(cols):\n",
    "    HTAG=cols[0]\n",
    "    FTAG=cols[1]\n",
    "    if FTAG == 0:\n",
    "        return 0\n",
    "    else:\n",
    "        return HTAG"
   ]
  },
  {
   "cell_type": "code",
   "execution_count": 10,
   "metadata": {},
   "outputs": [],
   "source": [
    "data[\"HTHG\"]=data[[\"HTHG\",\"FTHG\"]].apply(hthg,axis=1)"
   ]
  },
  {
   "cell_type": "code",
   "execution_count": 11,
   "metadata": {},
   "outputs": [],
   "source": [
    "data[\"HTAG\"]=data[[\"HTAG\",\"FTAG\"]].apply(hthg,axis=1)"
   ]
  },
  {
   "cell_type": "code",
   "execution_count": 12,
   "metadata": {},
   "outputs": [
    {
     "data": {
      "text/html": [
       "<div>\n",
       "<style scoped>\n",
       "    .dataframe tbody tr th:only-of-type {\n",
       "        vertical-align: middle;\n",
       "    }\n",
       "\n",
       "    .dataframe tbody tr th {\n",
       "        vertical-align: top;\n",
       "    }\n",
       "\n",
       "    .dataframe thead th {\n",
       "        text-align: right;\n",
       "    }\n",
       "</style>\n",
       "<table border=\"1\" class=\"dataframe\">\n",
       "  <thead>\n",
       "    <tr style=\"text-align: right;\">\n",
       "      <th></th>\n",
       "      <th>Div</th>\n",
       "      <th>Date</th>\n",
       "      <th>HomeTeam</th>\n",
       "      <th>AwayTeam</th>\n",
       "      <th>FTHG</th>\n",
       "      <th>FTAG</th>\n",
       "      <th>FTR</th>\n",
       "      <th>HTHG</th>\n",
       "      <th>HTAG</th>\n",
       "      <th>HTR</th>\n",
       "      <th>Season</th>\n",
       "    </tr>\n",
       "  </thead>\n",
       "  <tbody>\n",
       "    <tr>\n",
       "      <th>0</th>\n",
       "      <td>E0</td>\n",
       "      <td>14/08/93</td>\n",
       "      <td>Arsenal</td>\n",
       "      <td>Coventry</td>\n",
       "      <td>0</td>\n",
       "      <td>3</td>\n",
       "      <td>A</td>\n",
       "      <td>0.0</td>\n",
       "      <td>1.0</td>\n",
       "      <td>NaN</td>\n",
       "      <td>1993-94</td>\n",
       "    </tr>\n",
       "    <tr>\n",
       "      <th>1</th>\n",
       "      <td>E0</td>\n",
       "      <td>14/08/93</td>\n",
       "      <td>Aston Villa</td>\n",
       "      <td>QPR</td>\n",
       "      <td>4</td>\n",
       "      <td>1</td>\n",
       "      <td>H</td>\n",
       "      <td>1.0</td>\n",
       "      <td>1.0</td>\n",
       "      <td>NaN</td>\n",
       "      <td>1993-94</td>\n",
       "    </tr>\n",
       "    <tr>\n",
       "      <th>2</th>\n",
       "      <td>E0</td>\n",
       "      <td>14/08/93</td>\n",
       "      <td>Chelsea</td>\n",
       "      <td>Blackburn</td>\n",
       "      <td>1</td>\n",
       "      <td>2</td>\n",
       "      <td>A</td>\n",
       "      <td>1.0</td>\n",
       "      <td>1.0</td>\n",
       "      <td>NaN</td>\n",
       "      <td>1993-94</td>\n",
       "    </tr>\n",
       "    <tr>\n",
       "      <th>3</th>\n",
       "      <td>E0</td>\n",
       "      <td>14/08/93</td>\n",
       "      <td>Liverpool</td>\n",
       "      <td>Sheffield Weds</td>\n",
       "      <td>2</td>\n",
       "      <td>0</td>\n",
       "      <td>H</td>\n",
       "      <td>1.0</td>\n",
       "      <td>0.0</td>\n",
       "      <td>NaN</td>\n",
       "      <td>1993-94</td>\n",
       "    </tr>\n",
       "    <tr>\n",
       "      <th>4</th>\n",
       "      <td>E0</td>\n",
       "      <td>14/08/93</td>\n",
       "      <td>Man City</td>\n",
       "      <td>Leeds</td>\n",
       "      <td>1</td>\n",
       "      <td>1</td>\n",
       "      <td>D</td>\n",
       "      <td>1.0</td>\n",
       "      <td>1.0</td>\n",
       "      <td>NaN</td>\n",
       "      <td>1993-94</td>\n",
       "    </tr>\n",
       "    <tr>\n",
       "      <th>5</th>\n",
       "      <td>E0</td>\n",
       "      <td>14/08/93</td>\n",
       "      <td>Newcastle</td>\n",
       "      <td>Tottenham</td>\n",
       "      <td>0</td>\n",
       "      <td>1</td>\n",
       "      <td>A</td>\n",
       "      <td>0.0</td>\n",
       "      <td>1.0</td>\n",
       "      <td>NaN</td>\n",
       "      <td>1993-94</td>\n",
       "    </tr>\n",
       "    <tr>\n",
       "      <th>6</th>\n",
       "      <td>E0</td>\n",
       "      <td>14/08/93</td>\n",
       "      <td>Oldham</td>\n",
       "      <td>Ipswich</td>\n",
       "      <td>0</td>\n",
       "      <td>3</td>\n",
       "      <td>A</td>\n",
       "      <td>0.0</td>\n",
       "      <td>1.0</td>\n",
       "      <td>NaN</td>\n",
       "      <td>1993-94</td>\n",
       "    </tr>\n",
       "    <tr>\n",
       "      <th>7</th>\n",
       "      <td>E0</td>\n",
       "      <td>14/08/93</td>\n",
       "      <td>Sheffield United</td>\n",
       "      <td>Swindon</td>\n",
       "      <td>3</td>\n",
       "      <td>1</td>\n",
       "      <td>H</td>\n",
       "      <td>1.0</td>\n",
       "      <td>1.0</td>\n",
       "      <td>NaN</td>\n",
       "      <td>1993-94</td>\n",
       "    </tr>\n",
       "    <tr>\n",
       "      <th>8</th>\n",
       "      <td>E0</td>\n",
       "      <td>14/08/93</td>\n",
       "      <td>Southampton</td>\n",
       "      <td>Everton</td>\n",
       "      <td>0</td>\n",
       "      <td>2</td>\n",
       "      <td>A</td>\n",
       "      <td>0.0</td>\n",
       "      <td>1.0</td>\n",
       "      <td>NaN</td>\n",
       "      <td>1993-94</td>\n",
       "    </tr>\n",
       "    <tr>\n",
       "      <th>9</th>\n",
       "      <td>E0</td>\n",
       "      <td>14/08/93</td>\n",
       "      <td>West Ham</td>\n",
       "      <td>Wimbledon</td>\n",
       "      <td>0</td>\n",
       "      <td>2</td>\n",
       "      <td>A</td>\n",
       "      <td>0.0</td>\n",
       "      <td>1.0</td>\n",
       "      <td>NaN</td>\n",
       "      <td>1993-94</td>\n",
       "    </tr>\n",
       "  </tbody>\n",
       "</table>\n",
       "</div>"
      ],
      "text/plain": [
       "  Div      Date          HomeTeam        AwayTeam  FTHG  FTAG FTR  HTHG  HTAG  \\\n",
       "0  E0  14/08/93           Arsenal        Coventry     0     3   A   0.0   1.0   \n",
       "1  E0  14/08/93       Aston Villa             QPR     4     1   H   1.0   1.0   \n",
       "2  E0  14/08/93           Chelsea       Blackburn     1     2   A   1.0   1.0   \n",
       "3  E0  14/08/93         Liverpool  Sheffield Weds     2     0   H   1.0   0.0   \n",
       "4  E0  14/08/93          Man City           Leeds     1     1   D   1.0   1.0   \n",
       "5  E0  14/08/93         Newcastle       Tottenham     0     1   A   0.0   1.0   \n",
       "6  E0  14/08/93            Oldham         Ipswich     0     3   A   0.0   1.0   \n",
       "7  E0  14/08/93  Sheffield United         Swindon     3     1   H   1.0   1.0   \n",
       "8  E0  14/08/93       Southampton         Everton     0     2   A   0.0   1.0   \n",
       "9  E0  14/08/93          West Ham       Wimbledon     0     2   A   0.0   1.0   \n",
       "\n",
       "   HTR   Season  \n",
       "0  NaN  1993-94  \n",
       "1  NaN  1993-94  \n",
       "2  NaN  1993-94  \n",
       "3  NaN  1993-94  \n",
       "4  NaN  1993-94  \n",
       "5  NaN  1993-94  \n",
       "6  NaN  1993-94  \n",
       "7  NaN  1993-94  \n",
       "8  NaN  1993-94  \n",
       "9  NaN  1993-94  "
      ]
     },
     "execution_count": 12,
     "metadata": {},
     "output_type": "execute_result"
    }
   ],
   "source": [
    "data.head(10)"
   ]
  },
  {
   "cell_type": "code",
   "execution_count": 13,
   "metadata": {},
   "outputs": [
    {
     "name": "stdout",
     "output_type": "stream",
     "text": [
      "<class 'pandas.core.frame.DataFrame'>\n",
      "RangeIndex: 9664 entries, 0 to 9663\n",
      "Data columns (total 11 columns):\n",
      " #   Column    Non-Null Count  Dtype  \n",
      "---  ------    --------------  -----  \n",
      " 0   Div       9664 non-null   object \n",
      " 1   Date      9664 non-null   object \n",
      " 2   HomeTeam  9664 non-null   object \n",
      " 3   AwayTeam  9664 non-null   object \n",
      " 4   FTHG      9664 non-null   int64  \n",
      " 5   FTAG      9664 non-null   int64  \n",
      " 6   FTR       9664 non-null   object \n",
      " 7   HTHG      9664 non-null   float64\n",
      " 8   HTAG      9664 non-null   float64\n",
      " 9   HTR       8740 non-null   object \n",
      " 10  Season    9664 non-null   object \n",
      "dtypes: float64(2), int64(2), object(7)\n",
      "memory usage: 830.6+ KB\n"
     ]
    }
   ],
   "source": [
    "data.info()"
   ]
  },
  {
   "cell_type": "code",
   "execution_count": 14,
   "metadata": {},
   "outputs": [
    {
     "data": {
      "text/plain": [
       "<matplotlib.axes._subplots.AxesSubplot at 0x189eb6bb608>"
      ]
     },
     "execution_count": 14,
     "metadata": {},
     "output_type": "execute_result"
    },
    {
     "data": {
      "image/png": "[encoded data removed]",
      "text/plain": [
       "<Figure size 432x288 with 1 Axes>"
      ]
     },
     "metadata": {
      "needs_background": "light"
     },
     "output_type": "display_data"
    }
   ],
   "source": [
    "sns.heatmap(data.isnull(),cmap=\"viridis\",yticklabels=False,cbar=False)"
   ]
  },
  {
   "cell_type": "markdown",
   "metadata": {},
   "source": [
    "We can see from above that only the \"HTR\" columns have NaN values now. We write a function for it and fill in the values instead of NaN using the \"HTHG\" and \"HTAG\" coloumns."
   ]
  },
  {
   "cell_type": "code",
   "execution_count": 15,
   "metadata": {},
   "outputs": [],
   "source": [
    "def htr(cols):\n",
    "    HTR=cols[0]\n",
    "    HTHG=cols[1]\n",
    "    HTAG=cols[2]\n",
    "    if pd.isnull(HTR):\n",
    "        if HTHG>HTAG:\n",
    "            return \"H\"\n",
    "        elif HTAG>HTHG:\n",
    "            return \"A\"\n",
    "        else:\n",
    "            return \"D\"\n",
    "    else:\n",
    "        return HTR"
   ]
  },
  {
   "cell_type": "code",
   "execution_count": 16,
   "metadata": {},
   "outputs": [],
   "source": [
    "data[\"HTR\"]=data[[\"HTR\",\"HTHG\",\"HTAG\"]].apply(htr,axis=1)"
   ]
  },
  {
   "cell_type": "code",
   "execution_count": 17,
   "metadata": {},
   "outputs": [
    {
     "data": {
      "text/html": [
       "<div>\n",
       "<style scoped>\n",
       "    .dataframe tbody tr th:only-of-type {\n",
       "        vertical-align: middle;\n",
       "    }\n",
       "\n",
       "    .dataframe tbody tr th {\n",
       "        vertical-align: top;\n",
       "    }\n",
       "\n",
       "    .dataframe thead th {\n",
       "        text-align: right;\n",
       "    }\n",
       "</style>\n",
       "<table border=\"1\" class=\"dataframe\">\n",
       "  <thead>\n",
       "    <tr style=\"text-align: right;\">\n",
       "      <th></th>\n",
       "      <th>Div</th>\n",
       "      <th>Date</th>\n",
       "      <th>HomeTeam</th>\n",
       "      <th>AwayTeam</th>\n",
       "      <th>FTHG</th>\n",
       "      <th>FTAG</th>\n",
       "      <th>FTR</th>\n",
       "      <th>HTHG</th>\n",
       "      <th>HTAG</th>\n",
       "      <th>HTR</th>\n",
       "      <th>Season</th>\n",
       "    </tr>\n",
       "  </thead>\n",
       "  <tbody>\n",
       "    <tr>\n",
       "      <th>0</th>\n",
       "      <td>E0</td>\n",
       "      <td>14/08/93</td>\n",
       "      <td>Arsenal</td>\n",
       "      <td>Coventry</td>\n",
       "      <td>0</td>\n",
       "      <td>3</td>\n",
       "      <td>A</td>\n",
       "      <td>0.0</td>\n",
       "      <td>1.0</td>\n",
       "      <td>A</td>\n",
       "      <td>1993-94</td>\n",
       "    </tr>\n",
       "    <tr>\n",
       "      <th>1</th>\n",
       "      <td>E0</td>\n",
       "      <td>14/08/93</td>\n",
       "      <td>Aston Villa</td>\n",
       "      <td>QPR</td>\n",
       "      <td>4</td>\n",
       "      <td>1</td>\n",
       "      <td>H</td>\n",
       "      <td>1.0</td>\n",
       "      <td>1.0</td>\n",
       "      <td>D</td>\n",
       "      <td>1993-94</td>\n",
       "    </tr>\n",
       "    <tr>\n",
       "      <th>2</th>\n",
       "      <td>E0</td>\n",
       "      <td>14/08/93</td>\n",
       "      <td>Chelsea</td>\n",
       "      <td>Blackburn</td>\n",
       "      <td>1</td>\n",
       "      <td>2</td>\n",
       "      <td>A</td>\n",
       "      <td>1.0</td>\n",
       "      <td>1.0</td>\n",
       "      <td>D</td>\n",
       "      <td>1993-94</td>\n",
       "    </tr>\n",
       "    <tr>\n",
       "      <th>3</th>\n",
       "      <td>E0</td>\n",
       "      <td>14/08/93</td>\n",
       "      <td>Liverpool</td>\n",
       "      <td>Sheffield Weds</td>\n",
       "      <td>2</td>\n",
       "      <td>0</td>\n",
       "      <td>H</td>\n",
       "      <td>1.0</td>\n",
       "      <td>0.0</td>\n",
       "      <td>H</td>\n",
       "      <td>1993-94</td>\n",
       "    </tr>\n",
       "    <tr>\n",
       "      <th>4</th>\n",
       "      <td>E0</td>\n",
       "      <td>14/08/93</td>\n",
       "      <td>Man City</td>\n",
       "      <td>Leeds</td>\n",
       "      <td>1</td>\n",
       "      <td>1</td>\n",
       "      <td>D</td>\n",
       "      <td>1.0</td>\n",
       "      <td>1.0</td>\n",
       "      <td>D</td>\n",
       "      <td>1993-94</td>\n",
       "    </tr>\n",
       "  </tbody>\n",
       "</table>\n",
       "</div>"
      ],
      "text/plain": [
       "  Div      Date     HomeTeam        AwayTeam  FTHG  FTAG FTR  HTHG  HTAG HTR  \\\n",
       "0  E0  14/08/93      Arsenal        Coventry     0     3   A   0.0   1.0   A   \n",
       "1  E0  14/08/93  Aston Villa             QPR     4     1   H   1.0   1.0   D   \n",
       "2  E0  14/08/93      Chelsea       Blackburn     1     2   A   1.0   1.0   D   \n",
       "3  E0  14/08/93    Liverpool  Sheffield Weds     2     0   H   1.0   0.0   H   \n",
       "4  E0  14/08/93     Man City           Leeds     1     1   D   1.0   1.0   D   \n",
       "\n",
       "    Season  \n",
       "0  1993-94  \n",
       "1  1993-94  \n",
       "2  1993-94  \n",
       "3  1993-94  \n",
       "4  1993-94  "
      ]
     },
     "execution_count": 17,
     "metadata": {},
     "output_type": "execute_result"
    }
   ],
   "source": [
    "data.head()"
   ]
  },
  {
   "cell_type": "code",
   "execution_count": 18,
   "metadata": {},
   "outputs": [
    {
     "name": "stdout",
     "output_type": "stream",
     "text": [
      "<class 'pandas.core.frame.DataFrame'>\n",
      "RangeIndex: 9664 entries, 0 to 9663\n",
      "Data columns (total 11 columns):\n",
      " #   Column    Non-Null Count  Dtype  \n",
      "---  ------    --------------  -----  \n",
      " 0   Div       9664 non-null   object \n",
      " 1   Date      9664 non-null   object \n",
      " 2   HomeTeam  9664 non-null   object \n",
      " 3   AwayTeam  9664 non-null   object \n",
      " 4   FTHG      9664 non-null   int64  \n",
      " 5   FTAG      9664 non-null   int64  \n",
      " 6   FTR       9664 non-null   object \n",
      " 7   HTHG      9664 non-null   float64\n",
      " 8   HTAG      9664 non-null   float64\n",
      " 9   HTR       9664 non-null   object \n",
      " 10  Season    9664 non-null   object \n",
      "dtypes: float64(2), int64(2), object(7)\n",
      "memory usage: 830.6+ KB\n"
     ]
    }
   ],
   "source": [
    "data.info()"
   ]
  },
  {
   "cell_type": "code",
   "execution_count": 19,
   "metadata": {},
   "outputs": [
    {
     "data": {
      "text/plain": [
       "<matplotlib.axes._subplots.AxesSubplot at 0x189eb8de608>"
      ]
     },
     "execution_count": 19,
     "metadata": {},
     "output_type": "execute_result"
    },
    {
     "data": {
      "image/png": "[encoded data removed]",
      "text/plain": [
       "<Figure size 432x288 with 1 Axes>"
      ]
     },
     "metadata": {
      "needs_background": "light"
     },
     "output_type": "display_data"
    }
   ],
   "source": [
    "sns.heatmap(data.isnull(),cmap=\"viridis\",yticklabels=False,cbar=False)"
   ]
  },
  {
   "cell_type": "markdown",
   "metadata": {},
   "source": [
    "Now all NaN values in the dataset have been filled and we can proceed with our complete dataset."
   ]
  },
  {
   "cell_type": "markdown",
   "metadata": {},
   "source": [
    "#### Since we have a complete dataset, we need to convert the string entries to entries that can be accepted by the model."
   ]
  },
  {
   "cell_type": "markdown",
   "metadata": {},
   "source": [
    "We will first convert the \"HTR\" and \"FTR\" columns and produce dummies for them"
   ]
  },
  {
   "cell_type": "markdown",
   "metadata": {},
   "source": [
    "HTR column conversion and column order re-adjustments."
   ]
  },
  {
   "cell_type": "code",
   "execution_count": 20,
   "metadata": {},
   "outputs": [],
   "source": [
    "b=pd.get_dummies(data[\"HTR\"],prefix=\"HTR\")\n",
    "data=pd.concat([data,b],axis=1)"
   ]
  },
  {
   "cell_type": "code",
   "execution_count": 21,
   "metadata": {},
   "outputs": [],
   "source": [
    "data.drop(\"HTR\",axis=1,inplace=True)\n",
    "m=data[\"Season\"]\n",
    "data.drop(\"Season\",axis=1,inplace=True)\n",
    "data.insert(12,\"Season\",m)"
   ]
  },
  {
   "cell_type": "code",
   "execution_count": 22,
   "metadata": {},
   "outputs": [
    {
     "data": {
      "text/html": [
       "<div>\n",
       "<style scoped>\n",
       "    .dataframe tbody tr th:only-of-type {\n",
       "        vertical-align: middle;\n",
       "    }\n",
       "\n",
       "    .dataframe tbody tr th {\n",
       "        vertical-align: top;\n",
       "    }\n",
       "\n",
       "    .dataframe thead th {\n",
       "        text-align: right;\n",
       "    }\n",
       "</style>\n",
       "<table border=\"1\" class=\"dataframe\">\n",
       "  <thead>\n",
       "    <tr style=\"text-align: right;\">\n",
       "      <th></th>\n",
       "      <th>Div</th>\n",
       "      <th>Date</th>\n",
       "      <th>HomeTeam</th>\n",
       "      <th>AwayTeam</th>\n",
       "      <th>FTHG</th>\n",
       "      <th>FTAG</th>\n",
       "      <th>FTR</th>\n",
       "      <th>HTHG</th>\n",
       "      <th>HTAG</th>\n",
       "      <th>HTR_A</th>\n",
       "      <th>HTR_D</th>\n",
       "      <th>HTR_H</th>\n",
       "      <th>Season</th>\n",
       "    </tr>\n",
       "  </thead>\n",
       "  <tbody>\n",
       "    <tr>\n",
       "      <th>0</th>\n",
       "      <td>E0</td>\n",
       "      <td>14/08/93</td>\n",
       "      <td>Arsenal</td>\n",
       "      <td>Coventry</td>\n",
       "      <td>0</td>\n",
       "      <td>3</td>\n",
       "      <td>A</td>\n",
       "      <td>0.0</td>\n",
       "      <td>1.0</td>\n",
       "      <td>1</td>\n",
       "      <td>0</td>\n",
       "      <td>0</td>\n",
       "      <td>1993-94</td>\n",
       "    </tr>\n",
       "    <tr>\n",
       "      <th>1</th>\n",
       "      <td>E0</td>\n",
       "      <td>14/08/93</td>\n",
       "      <td>Aston Villa</td>\n",
       "      <td>QPR</td>\n",
       "      <td>4</td>\n",
       "      <td>1</td>\n",
       "      <td>H</td>\n",
       "      <td>1.0</td>\n",
       "      <td>1.0</td>\n",
       "      <td>0</td>\n",
       "      <td>1</td>\n",
       "      <td>0</td>\n",
       "      <td>1993-94</td>\n",
       "    </tr>\n",
       "    <tr>\n",
       "      <th>2</th>\n",
       "      <td>E0</td>\n",
       "      <td>14/08/93</td>\n",
       "      <td>Chelsea</td>\n",
       "      <td>Blackburn</td>\n",
       "      <td>1</td>\n",
       "      <td>2</td>\n",
       "      <td>A</td>\n",
       "      <td>1.0</td>\n",
       "      <td>1.0</td>\n",
       "      <td>0</td>\n",
       "      <td>1</td>\n",
       "      <td>0</td>\n",
       "      <td>1993-94</td>\n",
       "    </tr>\n",
       "    <tr>\n",
       "      <th>3</th>\n",
       "      <td>E0</td>\n",
       "      <td>14/08/93</td>\n",
       "      <td>Liverpool</td>\n",
       "      <td>Sheffield Weds</td>\n",
       "      <td>2</td>\n",
       "      <td>0</td>\n",
       "      <td>H</td>\n",
       "      <td>1.0</td>\n",
       "      <td>0.0</td>\n",
       "      <td>0</td>\n",
       "      <td>0</td>\n",
       "      <td>1</td>\n",
       "      <td>1993-94</td>\n",
       "    </tr>\n",
       "    <tr>\n",
       "      <th>4</th>\n",
       "      <td>E0</td>\n",
       "      <td>14/08/93</td>\n",
       "      <td>Man City</td>\n",
       "      <td>Leeds</td>\n",
       "      <td>1</td>\n",
       "      <td>1</td>\n",
       "      <td>D</td>\n",
       "      <td>1.0</td>\n",
       "      <td>1.0</td>\n",
       "      <td>0</td>\n",
       "      <td>1</td>\n",
       "      <td>0</td>\n",
       "      <td>1993-94</td>\n",
       "    </tr>\n",
       "  </tbody>\n",
       "</table>\n",
       "</div>"
      ],
      "text/plain": [
       "  Div      Date     HomeTeam        AwayTeam  FTHG  FTAG FTR  HTHG  HTAG  \\\n",
       "0  E0  14/08/93      Arsenal        Coventry     0     3   A   0.0   1.0   \n",
       "1  E0  14/08/93  Aston Villa             QPR     4     1   H   1.0   1.0   \n",
       "2  E0  14/08/93      Chelsea       Blackburn     1     2   A   1.0   1.0   \n",
       "3  E0  14/08/93    Liverpool  Sheffield Weds     2     0   H   1.0   0.0   \n",
       "4  E0  14/08/93     Man City           Leeds     1     1   D   1.0   1.0   \n",
       "\n",
       "   HTR_A  HTR_D  HTR_H   Season  \n",
       "0      1      0      0  1993-94  \n",
       "1      0      1      0  1993-94  \n",
       "2      0      1      0  1993-94  \n",
       "3      0      0      1  1993-94  \n",
       "4      0      1      0  1993-94  "
      ]
     },
     "execution_count": 22,
     "metadata": {},
     "output_type": "execute_result"
    }
   ],
   "source": [
    "data.head()"
   ]
  },
  {
   "cell_type": "markdown",
   "metadata": {},
   "source": [
    "FTR column conversion and column reordering"
   ]
  },
  {
   "cell_type": "markdown",
   "metadata": {},
   "source": [
    "Dropping columns deemed not necessary"
   ]
  },
  {
   "cell_type": "code",
   "execution_count": 23,
   "metadata": {},
   "outputs": [],
   "source": [
    "data.drop(\"Div\",axis=1,inplace=True)\n",
    "data.drop(\"Date\",axis=1,inplace=True)"
   ]
  },
  {
   "cell_type": "markdown",
   "metadata": {},
   "source": [
    "Converting data type to int for better readabilty."
   ]
  },
  {
   "cell_type": "code",
   "execution_count": 24,
   "metadata": {},
   "outputs": [],
   "source": [
    "data[\"HTHG\"]=data[\"HTHG\"].astype(int)\n",
    "data[\"HTAG\"]=data[\"HTAG\"].astype(int)"
   ]
  },
  {
   "cell_type": "code",
   "execution_count": 25,
   "metadata": {},
   "outputs": [
    {
     "data": {
      "text/html": [
       "<div>\n",
       "<style scoped>\n",
       "    .dataframe tbody tr th:only-of-type {\n",
       "        vertical-align: middle;\n",
       "    }\n",
       "\n",
       "    .dataframe tbody tr th {\n",
       "        vertical-align: top;\n",
       "    }\n",
       "\n",
       "    .dataframe thead th {\n",
       "        text-align: right;\n",
       "    }\n",
       "</style>\n",
       "<table border=\"1\" class=\"dataframe\">\n",
       "  <thead>\n",
       "    <tr style=\"text-align: right;\">\n",
       "      <th></th>\n",
       "      <th>HomeTeam</th>\n",
       "      <th>AwayTeam</th>\n",
       "      <th>FTHG</th>\n",
       "      <th>FTAG</th>\n",
       "      <th>FTR</th>\n",
       "      <th>HTHG</th>\n",
       "      <th>HTAG</th>\n",
       "      <th>HTR_A</th>\n",
       "      <th>HTR_D</th>\n",
       "      <th>HTR_H</th>\n",
       "      <th>Season</th>\n",
       "    </tr>\n",
       "  </thead>\n",
       "  <tbody>\n",
       "    <tr>\n",
       "      <th>0</th>\n",
       "      <td>Arsenal</td>\n",
       "      <td>Coventry</td>\n",
       "      <td>0</td>\n",
       "      <td>3</td>\n",
       "      <td>A</td>\n",
       "      <td>0</td>\n",
       "      <td>1</td>\n",
       "      <td>1</td>\n",
       "      <td>0</td>\n",
       "      <td>0</td>\n",
       "      <td>1993-94</td>\n",
       "    </tr>\n",
       "    <tr>\n",
       "      <th>1</th>\n",
       "      <td>Aston Villa</td>\n",
       "      <td>QPR</td>\n",
       "      <td>4</td>\n",
       "      <td>1</td>\n",
       "      <td>H</td>\n",
       "      <td>1</td>\n",
       "      <td>1</td>\n",
       "      <td>0</td>\n",
       "      <td>1</td>\n",
       "      <td>0</td>\n",
       "      <td>1993-94</td>\n",
       "    </tr>\n",
       "    <tr>\n",
       "      <th>2</th>\n",
       "      <td>Chelsea</td>\n",
       "      <td>Blackburn</td>\n",
       "      <td>1</td>\n",
       "      <td>2</td>\n",
       "      <td>A</td>\n",
       "      <td>1</td>\n",
       "      <td>1</td>\n",
       "      <td>0</td>\n",
       "      <td>1</td>\n",
       "      <td>0</td>\n",
       "      <td>1993-94</td>\n",
       "    </tr>\n",
       "    <tr>\n",
       "      <th>3</th>\n",
       "      <td>Liverpool</td>\n",
       "      <td>Sheffield Weds</td>\n",
       "      <td>2</td>\n",
       "      <td>0</td>\n",
       "      <td>H</td>\n",
       "      <td>1</td>\n",
       "      <td>0</td>\n",
       "      <td>0</td>\n",
       "      <td>0</td>\n",
       "      <td>1</td>\n",
       "      <td>1993-94</td>\n",
       "    </tr>\n",
       "    <tr>\n",
       "      <th>4</th>\n",
       "      <td>Man City</td>\n",
       "      <td>Leeds</td>\n",
       "      <td>1</td>\n",
       "      <td>1</td>\n",
       "      <td>D</td>\n",
       "      <td>1</td>\n",
       "      <td>1</td>\n",
       "      <td>0</td>\n",
       "      <td>1</td>\n",
       "      <td>0</td>\n",
       "      <td>1993-94</td>\n",
       "    </tr>\n",
       "  </tbody>\n",
       "</table>\n",
       "</div>"
      ],
      "text/plain": [
       "      HomeTeam        AwayTeam  FTHG  FTAG FTR  HTHG  HTAG  HTR_A  HTR_D  \\\n",
       "0      Arsenal        Coventry     0     3   A     0     1      1      0   \n",
       "1  Aston Villa             QPR     4     1   H     1     1      0      1   \n",
       "2      Chelsea       Blackburn     1     2   A     1     1      0      1   \n",
       "3    Liverpool  Sheffield Weds     2     0   H     1     0      0      0   \n",
       "4     Man City           Leeds     1     1   D     1     1      0      1   \n",
       "\n",
       "   HTR_H   Season  \n",
       "0      0  1993-94  \n",
       "1      0  1993-94  \n",
       "2      0  1993-94  \n",
       "3      1  1993-94  \n",
       "4      0  1993-94  "
      ]
     },
     "execution_count": 25,
     "metadata": {},
     "output_type": "execute_result"
    }
   ],
   "source": [
    "data.head()"
   ]
  },
  {
   "cell_type": "markdown",
   "metadata": {},
   "source": [
    "**Converting \"Season\" column from object type to a suitable type that can be accepted by the model** "
   ]
  },
  {
   "cell_type": "code",
   "execution_count": 26,
   "metadata": {},
   "outputs": [],
   "source": [
    "new=[]\n",
    "end=[]\n",
    "for index in data[\"Season\"]:\n",
    "    new.append(index.split(\"-\")[0])\n",
    "    end.append(index.split(\"-\")[1])"
   ]
  },
  {
   "cell_type": "code",
   "execution_count": 27,
   "metadata": {},
   "outputs": [],
   "source": [
    "data[\"Season S_Year\"]=new\n",
    "data[\"Season E_Year\"]=end\n",
    "data.drop(\"Season\",axis=1,inplace=True)"
   ]
  },
  {
   "cell_type": "code",
   "execution_count": 28,
   "metadata": {},
   "outputs": [],
   "source": [
    "data[\"Season S_Year\"]=data[\"Season S_Year\"].astype(int)\n",
    "data[\"Season E_Year\"]=data[\"Season E_Year\"].astype(int)"
   ]
  },
  {
   "cell_type": "code",
   "execution_count": 29,
   "metadata": {},
   "outputs": [
    {
     "data": {
      "text/html": [
       "<div>\n",
       "<style scoped>\n",
       "    .dataframe tbody tr th:only-of-type {\n",
       "        vertical-align: middle;\n",
       "    }\n",
       "\n",
       "    .dataframe tbody tr th {\n",
       "        vertical-align: top;\n",
       "    }\n",
       "\n",
       "    .dataframe thead th {\n",
       "        text-align: right;\n",
       "    }\n",
       "</style>\n",
       "<table border=\"1\" class=\"dataframe\">\n",
       "  <thead>\n",
       "    <tr style=\"text-align: right;\">\n",
       "      <th></th>\n",
       "      <th>HomeTeam</th>\n",
       "      <th>AwayTeam</th>\n",
       "      <th>FTHG</th>\n",
       "      <th>FTAG</th>\n",
       "      <th>FTR</th>\n",
       "      <th>HTHG</th>\n",
       "      <th>HTAG</th>\n",
       "      <th>HTR_A</th>\n",
       "      <th>HTR_D</th>\n",
       "      <th>HTR_H</th>\n",
       "      <th>Season S_Year</th>\n",
       "      <th>Season E_Year</th>\n",
       "    </tr>\n",
       "  </thead>\n",
       "  <tbody>\n",
       "    <tr>\n",
       "      <th>0</th>\n",
       "      <td>Arsenal</td>\n",
       "      <td>Coventry</td>\n",
       "      <td>0</td>\n",
       "      <td>3</td>\n",
       "      <td>A</td>\n",
       "      <td>0</td>\n",
       "      <td>1</td>\n",
       "      <td>1</td>\n",
       "      <td>0</td>\n",
       "      <td>0</td>\n",
       "      <td>1993</td>\n",
       "      <td>94</td>\n",
       "    </tr>\n",
       "    <tr>\n",
       "      <th>1</th>\n",
       "      <td>Aston Villa</td>\n",
       "      <td>QPR</td>\n",
       "      <td>4</td>\n",
       "      <td>1</td>\n",
       "      <td>H</td>\n",
       "      <td>1</td>\n",
       "      <td>1</td>\n",
       "      <td>0</td>\n",
       "      <td>1</td>\n",
       "      <td>0</td>\n",
       "      <td>1993</td>\n",
       "      <td>94</td>\n",
       "    </tr>\n",
       "    <tr>\n",
       "      <th>2</th>\n",
       "      <td>Chelsea</td>\n",
       "      <td>Blackburn</td>\n",
       "      <td>1</td>\n",
       "      <td>2</td>\n",
       "      <td>A</td>\n",
       "      <td>1</td>\n",
       "      <td>1</td>\n",
       "      <td>0</td>\n",
       "      <td>1</td>\n",
       "      <td>0</td>\n",
       "      <td>1993</td>\n",
       "      <td>94</td>\n",
       "    </tr>\n",
       "    <tr>\n",
       "      <th>3</th>\n",
       "      <td>Liverpool</td>\n",
       "      <td>Sheffield Weds</td>\n",
       "      <td>2</td>\n",
       "      <td>0</td>\n",
       "      <td>H</td>\n",
       "      <td>1</td>\n",
       "      <td>0</td>\n",
       "      <td>0</td>\n",
       "      <td>0</td>\n",
       "      <td>1</td>\n",
       "      <td>1993</td>\n",
       "      <td>94</td>\n",
       "    </tr>\n",
       "    <tr>\n",
       "      <th>4</th>\n",
       "      <td>Man City</td>\n",
       "      <td>Leeds</td>\n",
       "      <td>1</td>\n",
       "      <td>1</td>\n",
       "      <td>D</td>\n",
       "      <td>1</td>\n",
       "      <td>1</td>\n",
       "      <td>0</td>\n",
       "      <td>1</td>\n",
       "      <td>0</td>\n",
       "      <td>1993</td>\n",
       "      <td>94</td>\n",
       "    </tr>\n",
       "  </tbody>\n",
       "</table>\n",
       "</div>"
      ],
      "text/plain": [
       "      HomeTeam        AwayTeam  FTHG  FTAG FTR  HTHG  HTAG  HTR_A  HTR_D  \\\n",
       "0      Arsenal        Coventry     0     3   A     0     1      1      0   \n",
       "1  Aston Villa             QPR     4     1   H     1     1      0      1   \n",
       "2      Chelsea       Blackburn     1     2   A     1     1      0      1   \n",
       "3    Liverpool  Sheffield Weds     2     0   H     1     0      0      0   \n",
       "4     Man City           Leeds     1     1   D     1     1      0      1   \n",
       "\n",
       "   HTR_H  Season S_Year  Season E_Year  \n",
       "0      0           1993             94  \n",
       "1      0           1993             94  \n",
       "2      0           1993             94  \n",
       "3      1           1993             94  \n",
       "4      0           1993             94  "
      ]
     },
     "execution_count": 29,
     "metadata": {},
     "output_type": "execute_result"
    }
   ],
   "source": [
    "data.head()"
   ]
  },
  {
   "cell_type": "code",
   "execution_count": 30,
   "metadata": {},
   "outputs": [
    {
     "name": "stdout",
     "output_type": "stream",
     "text": [
      "<class 'pandas.core.frame.DataFrame'>\n",
      "RangeIndex: 9664 entries, 0 to 9663\n",
      "Data columns (total 12 columns):\n",
      " #   Column         Non-Null Count  Dtype \n",
      "---  ------         --------------  ----- \n",
      " 0   HomeTeam       9664 non-null   object\n",
      " 1   AwayTeam       9664 non-null   object\n",
      " 2   FTHG           9664 non-null   int64 \n",
      " 3   FTAG           9664 non-null   int64 \n",
      " 4   FTR            9664 non-null   object\n",
      " 5   HTHG           9664 non-null   int32 \n",
      " 6   HTAG           9664 non-null   int32 \n",
      " 7   HTR_A          9664 non-null   uint8 \n",
      " 8   HTR_D          9664 non-null   uint8 \n",
      " 9   HTR_H          9664 non-null   uint8 \n",
      " 10  Season S_Year  9664 non-null   int32 \n",
      " 11  Season E_Year  9664 non-null   int32 \n",
      "dtypes: int32(4), int64(2), object(3), uint8(3)\n",
      "memory usage: 556.9+ KB\n"
     ]
    }
   ],
   "source": [
    "data.info()"
   ]
  },
  {
   "cell_type": "code",
   "execution_count": 31,
   "metadata": {},
   "outputs": [],
   "source": [
    "X_all = data.drop(['FTR','Season S_Year','Season E_Year','FTAG','FTHG'],1)\n",
    "Y_all=data.drop(['HomeTeam','AwayTeam','FTHG','FTAG','HTHG','HTAG','HTR_A','HTR_D','HTR_H','Season S_Year','Season E_Year'],1)"
   ]
  },
  {
   "cell_type": "markdown",
   "metadata": {},
   "source": [
    "**Segregating data into Features(X) and Labels(Y)**"
   ]
  },
  {
   "cell_type": "code",
   "execution_count": 32,
   "metadata": {},
   "outputs": [
    {
     "data": {
      "text/html": [
       "<div>\n",
       "<style scoped>\n",
       "    .dataframe tbody tr th:only-of-type {\n",
       "        vertical-align: middle;\n",
       "    }\n",
       "\n",
       "    .dataframe tbody tr th {\n",
       "        vertical-align: top;\n",
       "    }\n",
       "\n",
       "    .dataframe thead th {\n",
       "        text-align: right;\n",
       "    }\n",
       "</style>\n",
       "<table border=\"1\" class=\"dataframe\">\n",
       "  <thead>\n",
       "    <tr style=\"text-align: right;\">\n",
       "      <th></th>\n",
       "      <th>FTR</th>\n",
       "    </tr>\n",
       "  </thead>\n",
       "  <tbody>\n",
       "    <tr>\n",
       "      <th>0</th>\n",
       "      <td>A</td>\n",
       "    </tr>\n",
       "    <tr>\n",
       "      <th>1</th>\n",
       "      <td>H</td>\n",
       "    </tr>\n",
       "    <tr>\n",
       "      <th>2</th>\n",
       "      <td>A</td>\n",
       "    </tr>\n",
       "    <tr>\n",
       "      <th>3</th>\n",
       "      <td>H</td>\n",
       "    </tr>\n",
       "    <tr>\n",
       "      <th>4</th>\n",
       "      <td>D</td>\n",
       "    </tr>\n",
       "    <tr>\n",
       "      <th>...</th>\n",
       "      <td>...</td>\n",
       "    </tr>\n",
       "    <tr>\n",
       "      <th>9659</th>\n",
       "      <td>H</td>\n",
       "    </tr>\n",
       "    <tr>\n",
       "      <th>9660</th>\n",
       "      <td>A</td>\n",
       "    </tr>\n",
       "    <tr>\n",
       "      <th>9661</th>\n",
       "      <td>A</td>\n",
       "    </tr>\n",
       "    <tr>\n",
       "      <th>9662</th>\n",
       "      <td>H</td>\n",
       "    </tr>\n",
       "    <tr>\n",
       "      <th>9663</th>\n",
       "      <td>H</td>\n",
       "    </tr>\n",
       "  </tbody>\n",
       "</table>\n",
       "<p>9664 rows × 1 columns</p>\n",
       "</div>"
      ],
      "text/plain": [
       "     FTR\n",
       "0      A\n",
       "1      H\n",
       "2      A\n",
       "3      H\n",
       "4      D\n",
       "...   ..\n",
       "9659   H\n",
       "9660   A\n",
       "9661   A\n",
       "9662   H\n",
       "9663   H\n",
       "\n",
       "[9664 rows x 1 columns]"
      ]
     },
     "execution_count": 32,
     "metadata": {},
     "output_type": "execute_result"
    }
   ],
   "source": [
    "Y_all"
   ]
  },
  {
   "cell_type": "code",
   "execution_count": 33,
   "metadata": {},
   "outputs": [
    {
     "data": {
      "text/html": [
       "<div>\n",
       "<style scoped>\n",
       "    .dataframe tbody tr th:only-of-type {\n",
       "        vertical-align: middle;\n",
       "    }\n",
       "\n",
       "    .dataframe tbody tr th {\n",
       "        vertical-align: top;\n",
       "    }\n",
       "\n",
       "    .dataframe thead th {\n",
       "        text-align: right;\n",
       "    }\n",
       "</style>\n",
       "<table border=\"1\" class=\"dataframe\">\n",
       "  <thead>\n",
       "    <tr style=\"text-align: right;\">\n",
       "      <th></th>\n",
       "      <th>HomeTeam</th>\n",
       "      <th>AwayTeam</th>\n",
       "      <th>HTHG</th>\n",
       "      <th>HTAG</th>\n",
       "      <th>HTR_A</th>\n",
       "      <th>HTR_D</th>\n",
       "      <th>HTR_H</th>\n",
       "    </tr>\n",
       "  </thead>\n",
       "  <tbody>\n",
       "    <tr>\n",
       "      <th>0</th>\n",
       "      <td>Arsenal</td>\n",
       "      <td>Coventry</td>\n",
       "      <td>0</td>\n",
       "      <td>1</td>\n",
       "      <td>1</td>\n",
       "      <td>0</td>\n",
       "      <td>0</td>\n",
       "    </tr>\n",
       "    <tr>\n",
       "      <th>1</th>\n",
       "      <td>Aston Villa</td>\n",
       "      <td>QPR</td>\n",
       "      <td>1</td>\n",
       "      <td>1</td>\n",
       "      <td>0</td>\n",
       "      <td>1</td>\n",
       "      <td>0</td>\n",
       "    </tr>\n",
       "    <tr>\n",
       "      <th>2</th>\n",
       "      <td>Chelsea</td>\n",
       "      <td>Blackburn</td>\n",
       "      <td>1</td>\n",
       "      <td>1</td>\n",
       "      <td>0</td>\n",
       "      <td>1</td>\n",
       "      <td>0</td>\n",
       "    </tr>\n",
       "    <tr>\n",
       "      <th>3</th>\n",
       "      <td>Liverpool</td>\n",
       "      <td>Sheffield Weds</td>\n",
       "      <td>1</td>\n",
       "      <td>0</td>\n",
       "      <td>0</td>\n",
       "      <td>0</td>\n",
       "      <td>1</td>\n",
       "    </tr>\n",
       "    <tr>\n",
       "      <th>4</th>\n",
       "      <td>Man City</td>\n",
       "      <td>Leeds</td>\n",
       "      <td>1</td>\n",
       "      <td>1</td>\n",
       "      <td>0</td>\n",
       "      <td>1</td>\n",
       "      <td>0</td>\n",
       "    </tr>\n",
       "    <tr>\n",
       "      <th>...</th>\n",
       "      <td>...</td>\n",
       "      <td>...</td>\n",
       "      <td>...</td>\n",
       "      <td>...</td>\n",
       "      <td>...</td>\n",
       "      <td>...</td>\n",
       "      <td>...</td>\n",
       "    </tr>\n",
       "    <tr>\n",
       "      <th>9659</th>\n",
       "      <td>Newcastle</td>\n",
       "      <td>Chelsea</td>\n",
       "      <td>1</td>\n",
       "      <td>0</td>\n",
       "      <td>0</td>\n",
       "      <td>0</td>\n",
       "      <td>1</td>\n",
       "    </tr>\n",
       "    <tr>\n",
       "      <th>9660</th>\n",
       "      <td>Southampton</td>\n",
       "      <td>Man City</td>\n",
       "      <td>0</td>\n",
       "      <td>0</td>\n",
       "      <td>0</td>\n",
       "      <td>1</td>\n",
       "      <td>0</td>\n",
       "    </tr>\n",
       "    <tr>\n",
       "      <th>9661</th>\n",
       "      <td>Swansea</td>\n",
       "      <td>Stoke</td>\n",
       "      <td>1</td>\n",
       "      <td>2</td>\n",
       "      <td>1</td>\n",
       "      <td>0</td>\n",
       "      <td>0</td>\n",
       "    </tr>\n",
       "    <tr>\n",
       "      <th>9662</th>\n",
       "      <td>Tottenham</td>\n",
       "      <td>Leicester</td>\n",
       "      <td>1</td>\n",
       "      <td>2</td>\n",
       "      <td>1</td>\n",
       "      <td>0</td>\n",
       "      <td>0</td>\n",
       "    </tr>\n",
       "    <tr>\n",
       "      <th>9663</th>\n",
       "      <td>West Ham</td>\n",
       "      <td>Everton</td>\n",
       "      <td>1</td>\n",
       "      <td>0</td>\n",
       "      <td>0</td>\n",
       "      <td>0</td>\n",
       "      <td>1</td>\n",
       "    </tr>\n",
       "  </tbody>\n",
       "</table>\n",
       "<p>9664 rows × 7 columns</p>\n",
       "</div>"
      ],
      "text/plain": [
       "         HomeTeam        AwayTeam  HTHG  HTAG  HTR_A  HTR_D  HTR_H\n",
       "0         Arsenal        Coventry     0     1      1      0      0\n",
       "1     Aston Villa             QPR     1     1      0      1      0\n",
       "2         Chelsea       Blackburn     1     1      0      1      0\n",
       "3       Liverpool  Sheffield Weds     1     0      0      0      1\n",
       "4        Man City           Leeds     1     1      0      1      0\n",
       "...           ...             ...   ...   ...    ...    ...    ...\n",
       "9659    Newcastle         Chelsea     1     0      0      0      1\n",
       "9660  Southampton        Man City     0     0      0      1      0\n",
       "9661      Swansea           Stoke     1     2      1      0      0\n",
       "9662    Tottenham       Leicester     1     2      1      0      0\n",
       "9663     West Ham         Everton     1     0      0      0      1\n",
       "\n",
       "[9664 rows x 7 columns]"
      ]
     },
     "execution_count": 33,
     "metadata": {},
     "output_type": "execute_result"
    }
   ],
   "source": [
    "X_all"
   ]
  },
  {
   "cell_type": "code",
   "execution_count": 34,
   "metadata": {},
   "outputs": [],
   "source": [
    "from sklearn.preprocessing import LabelEncoder\n",
    "le = LabelEncoder()\n",
    "X_all['HomeTeam'] = le.fit_transform(data.HomeTeam.values)\n",
    "X_all['AwayTeam'] = le.fit_transform(data.AwayTeam.values)\n",
    "Y_all['FTR'] = le.fit_transform(data.FTR.values)\n"
   ]
  },
  {
   "cell_type": "markdown",
   "metadata": {},
   "source": [
    "As it is better to just pass numerical inputs, here we Change the string inputs to numerical inputs "
   ]
  },
  {
   "cell_type": "code",
   "execution_count": 35,
   "metadata": {},
   "outputs": [
    {
     "data": {
      "text/html": [
       "<div>\n",
       "<style scoped>\n",
       "    .dataframe tbody tr th:only-of-type {\n",
       "        vertical-align: middle;\n",
       "    }\n",
       "\n",
       "    .dataframe tbody tr th {\n",
       "        vertical-align: top;\n",
       "    }\n",
       "\n",
       "    .dataframe thead th {\n",
       "        text-align: right;\n",
       "    }\n",
       "</style>\n",
       "<table border=\"1\" class=\"dataframe\">\n",
       "  <thead>\n",
       "    <tr style=\"text-align: right;\">\n",
       "      <th></th>\n",
       "      <th>HomeTeam</th>\n",
       "      <th>AwayTeam</th>\n",
       "      <th>HTHG</th>\n",
       "      <th>HTAG</th>\n",
       "      <th>HTR_A</th>\n",
       "      <th>HTR_D</th>\n",
       "      <th>HTR_H</th>\n",
       "    </tr>\n",
       "  </thead>\n",
       "  <tbody>\n",
       "    <tr>\n",
       "      <th>0</th>\n",
       "      <td>0</td>\n",
       "      <td>14</td>\n",
       "      <td>0</td>\n",
       "      <td>1</td>\n",
       "      <td>1</td>\n",
       "      <td>0</td>\n",
       "      <td>0</td>\n",
       "    </tr>\n",
       "    <tr>\n",
       "      <th>1</th>\n",
       "      <td>1</td>\n",
       "      <td>34</td>\n",
       "      <td>1</td>\n",
       "      <td>1</td>\n",
       "      <td>0</td>\n",
       "      <td>1</td>\n",
       "      <td>0</td>\n",
       "    </tr>\n",
       "    <tr>\n",
       "      <th>2</th>\n",
       "      <td>13</td>\n",
       "      <td>4</td>\n",
       "      <td>1</td>\n",
       "      <td>1</td>\n",
       "      <td>0</td>\n",
       "      <td>1</td>\n",
       "      <td>0</td>\n",
       "    </tr>\n",
       "    <tr>\n",
       "      <th>3</th>\n",
       "      <td>24</td>\n",
       "      <td>37</td>\n",
       "      <td>1</td>\n",
       "      <td>0</td>\n",
       "      <td>0</td>\n",
       "      <td>0</td>\n",
       "      <td>1</td>\n",
       "    </tr>\n",
       "    <tr>\n",
       "      <th>4</th>\n",
       "      <td>25</td>\n",
       "      <td>22</td>\n",
       "      <td>1</td>\n",
       "      <td>1</td>\n",
       "      <td>0</td>\n",
       "      <td>1</td>\n",
       "      <td>0</td>\n",
       "    </tr>\n",
       "    <tr>\n",
       "      <th>...</th>\n",
       "      <td>...</td>\n",
       "      <td>...</td>\n",
       "      <td>...</td>\n",
       "      <td>...</td>\n",
       "      <td>...</td>\n",
       "      <td>...</td>\n",
       "      <td>...</td>\n",
       "    </tr>\n",
       "    <tr>\n",
       "      <th>9659</th>\n",
       "      <td>29</td>\n",
       "      <td>13</td>\n",
       "      <td>1</td>\n",
       "      <td>0</td>\n",
       "      <td>0</td>\n",
       "      <td>0</td>\n",
       "      <td>1</td>\n",
       "    </tr>\n",
       "    <tr>\n",
       "      <th>9660</th>\n",
       "      <td>38</td>\n",
       "      <td>25</td>\n",
       "      <td>0</td>\n",
       "      <td>0</td>\n",
       "      <td>0</td>\n",
       "      <td>1</td>\n",
       "      <td>0</td>\n",
       "    </tr>\n",
       "    <tr>\n",
       "      <th>9661</th>\n",
       "      <td>41</td>\n",
       "      <td>39</td>\n",
       "      <td>1</td>\n",
       "      <td>2</td>\n",
       "      <td>1</td>\n",
       "      <td>0</td>\n",
       "      <td>0</td>\n",
       "    </tr>\n",
       "    <tr>\n",
       "      <th>9662</th>\n",
       "      <td>43</td>\n",
       "      <td>23</td>\n",
       "      <td>1</td>\n",
       "      <td>2</td>\n",
       "      <td>1</td>\n",
       "      <td>0</td>\n",
       "      <td>0</td>\n",
       "    </tr>\n",
       "    <tr>\n",
       "      <th>9663</th>\n",
       "      <td>46</td>\n",
       "      <td>17</td>\n",
       "      <td>1</td>\n",
       "      <td>0</td>\n",
       "      <td>0</td>\n",
       "      <td>0</td>\n",
       "      <td>1</td>\n",
       "    </tr>\n",
       "  </tbody>\n",
       "</table>\n",
       "<p>9664 rows × 7 columns</p>\n",
       "</div>"
      ],
      "text/plain": [
       "      HomeTeam  AwayTeam  HTHG  HTAG  HTR_A  HTR_D  HTR_H\n",
       "0            0        14     0     1      1      0      0\n",
       "1            1        34     1     1      0      1      0\n",
       "2           13         4     1     1      0      1      0\n",
       "3           24        37     1     0      0      0      1\n",
       "4           25        22     1     1      0      1      0\n",
       "...        ...       ...   ...   ...    ...    ...    ...\n",
       "9659        29        13     1     0      0      0      1\n",
       "9660        38        25     0     0      0      1      0\n",
       "9661        41        39     1     2      1      0      0\n",
       "9662        43        23     1     2      1      0      0\n",
       "9663        46        17     1     0      0      0      1\n",
       "\n",
       "[9664 rows x 7 columns]"
      ]
     },
     "execution_count": 35,
     "metadata": {},
     "output_type": "execute_result"
    }
   ],
   "source": [
    "X_all\n"
   ]
  },
  {
   "cell_type": "code",
   "execution_count": 36,
   "metadata": {},
   "outputs": [
    {
     "data": {
      "text/html": [
       "<div>\n",
       "<style scoped>\n",
       "    .dataframe tbody tr th:only-of-type {\n",
       "        vertical-align: middle;\n",
       "    }\n",
       "\n",
       "    .dataframe tbody tr th {\n",
       "        vertical-align: top;\n",
       "    }\n",
       "\n",
       "    .dataframe thead th {\n",
       "        text-align: right;\n",
       "    }\n",
       "</style>\n",
       "<table border=\"1\" class=\"dataframe\">\n",
       "  <thead>\n",
       "    <tr style=\"text-align: right;\">\n",
       "      <th></th>\n",
       "      <th>FTR</th>\n",
       "    </tr>\n",
       "  </thead>\n",
       "  <tbody>\n",
       "    <tr>\n",
       "      <th>0</th>\n",
       "      <td>0</td>\n",
       "    </tr>\n",
       "    <tr>\n",
       "      <th>1</th>\n",
       "      <td>2</td>\n",
       "    </tr>\n",
       "    <tr>\n",
       "      <th>2</th>\n",
       "      <td>0</td>\n",
       "    </tr>\n",
       "    <tr>\n",
       "      <th>3</th>\n",
       "      <td>2</td>\n",
       "    </tr>\n",
       "    <tr>\n",
       "      <th>4</th>\n",
       "      <td>1</td>\n",
       "    </tr>\n",
       "    <tr>\n",
       "      <th>...</th>\n",
       "      <td>...</td>\n",
       "    </tr>\n",
       "    <tr>\n",
       "      <th>9659</th>\n",
       "      <td>2</td>\n",
       "    </tr>\n",
       "    <tr>\n",
       "      <th>9660</th>\n",
       "      <td>0</td>\n",
       "    </tr>\n",
       "    <tr>\n",
       "      <th>9661</th>\n",
       "      <td>0</td>\n",
       "    </tr>\n",
       "    <tr>\n",
       "      <th>9662</th>\n",
       "      <td>2</td>\n",
       "    </tr>\n",
       "    <tr>\n",
       "      <th>9663</th>\n",
       "      <td>2</td>\n",
       "    </tr>\n",
       "  </tbody>\n",
       "</table>\n",
       "<p>9664 rows × 1 columns</p>\n",
       "</div>"
      ],
      "text/plain": [
       "      FTR\n",
       "0       0\n",
       "1       2\n",
       "2       0\n",
       "3       2\n",
       "4       1\n",
       "...   ...\n",
       "9659    2\n",
       "9660    0\n",
       "9661    0\n",
       "9662    2\n",
       "9663    2\n",
       "\n",
       "[9664 rows x 1 columns]"
      ]
     },
     "execution_count": 36,
     "metadata": {},
     "output_type": "execute_result"
    }
   ],
   "source": [
    "Y_all"
   ]
  },
  {
   "cell_type": "code",
   "execution_count": 37,
   "metadata": {},
   "outputs": [],
   "source": [
    "from sklearn.model_selection import train_test_split\n",
    "\n",
    "#Shuffle and split the dataset into training and testing set.\n",
    "X_train, X_test, Y_train, Y_test = train_test_split(X_all, Y_all, \n",
    "                                                    test_size = 0.33,\n",
    "                                                   random_state = 42,\n",
    "                                                   stratify = Y_all)"
   ]
  },
  {
   "cell_type": "markdown",
   "metadata": {},
   "source": [
    "**Splitting into train,test data**"
   ]
  },
  {
   "cell_type": "code",
   "execution_count": 38,
   "metadata": {},
   "outputs": [
    {
     "data": {
      "text/html": [
       "<div>\n",
       "<style scoped>\n",
       "    .dataframe tbody tr th:only-of-type {\n",
       "        vertical-align: middle;\n",
       "    }\n",
       "\n",
       "    .dataframe tbody tr th {\n",
       "        vertical-align: top;\n",
       "    }\n",
       "\n",
       "    .dataframe thead th {\n",
       "        text-align: right;\n",
       "    }\n",
       "</style>\n",
       "<table border=\"1\" class=\"dataframe\">\n",
       "  <thead>\n",
       "    <tr style=\"text-align: right;\">\n",
       "      <th></th>\n",
       "      <th>HomeTeam</th>\n",
       "      <th>AwayTeam</th>\n",
       "      <th>HTHG</th>\n",
       "      <th>HTAG</th>\n",
       "      <th>HTR_A</th>\n",
       "      <th>HTR_D</th>\n",
       "      <th>HTR_H</th>\n",
       "    </tr>\n",
       "  </thead>\n",
       "  <tbody>\n",
       "    <tr>\n",
       "      <th>5896</th>\n",
       "      <td>25</td>\n",
       "      <td>13</td>\n",
       "      <td>1</td>\n",
       "      <td>1</td>\n",
       "      <td>0</td>\n",
       "      <td>1</td>\n",
       "      <td>0</td>\n",
       "    </tr>\n",
       "    <tr>\n",
       "      <th>3825</th>\n",
       "      <td>27</td>\n",
       "      <td>1</td>\n",
       "      <td>2</td>\n",
       "      <td>2</td>\n",
       "      <td>0</td>\n",
       "      <td>1</td>\n",
       "      <td>0</td>\n",
       "    </tr>\n",
       "    <tr>\n",
       "      <th>1008</th>\n",
       "      <td>24</td>\n",
       "      <td>14</td>\n",
       "      <td>0</td>\n",
       "      <td>0</td>\n",
       "      <td>0</td>\n",
       "      <td>1</td>\n",
       "      <td>0</td>\n",
       "    </tr>\n",
       "    <tr>\n",
       "      <th>511</th>\n",
       "      <td>31</td>\n",
       "      <td>37</td>\n",
       "      <td>1</td>\n",
       "      <td>1</td>\n",
       "      <td>0</td>\n",
       "      <td>1</td>\n",
       "      <td>0</td>\n",
       "    </tr>\n",
       "    <tr>\n",
       "      <th>4475</th>\n",
       "      <td>15</td>\n",
       "      <td>29</td>\n",
       "      <td>0</td>\n",
       "      <td>0</td>\n",
       "      <td>0</td>\n",
       "      <td>1</td>\n",
       "      <td>0</td>\n",
       "    </tr>\n",
       "    <tr>\n",
       "      <th>...</th>\n",
       "      <td>...</td>\n",
       "      <td>...</td>\n",
       "      <td>...</td>\n",
       "      <td>...</td>\n",
       "      <td>...</td>\n",
       "      <td>...</td>\n",
       "      <td>...</td>\n",
       "    </tr>\n",
       "    <tr>\n",
       "      <th>2916</th>\n",
       "      <td>24</td>\n",
       "      <td>23</td>\n",
       "      <td>0</td>\n",
       "      <td>0</td>\n",
       "      <td>0</td>\n",
       "      <td>1</td>\n",
       "      <td>0</td>\n",
       "    </tr>\n",
       "    <tr>\n",
       "      <th>1718</th>\n",
       "      <td>43</td>\n",
       "      <td>1</td>\n",
       "      <td>1</td>\n",
       "      <td>1</td>\n",
       "      <td>0</td>\n",
       "      <td>1</td>\n",
       "      <td>0</td>\n",
       "    </tr>\n",
       "    <tr>\n",
       "      <th>5840</th>\n",
       "      <td>47</td>\n",
       "      <td>35</td>\n",
       "      <td>0</td>\n",
       "      <td>0</td>\n",
       "      <td>0</td>\n",
       "      <td>1</td>\n",
       "      <td>0</td>\n",
       "    </tr>\n",
       "    <tr>\n",
       "      <th>7910</th>\n",
       "      <td>45</td>\n",
       "      <td>30</td>\n",
       "      <td>0</td>\n",
       "      <td>1</td>\n",
       "      <td>1</td>\n",
       "      <td>0</td>\n",
       "      <td>0</td>\n",
       "    </tr>\n",
       "    <tr>\n",
       "      <th>3694</th>\n",
       "      <td>24</td>\n",
       "      <td>46</td>\n",
       "      <td>1</td>\n",
       "      <td>0</td>\n",
       "      <td>0</td>\n",
       "      <td>0</td>\n",
       "      <td>1</td>\n",
       "    </tr>\n",
       "  </tbody>\n",
       "</table>\n",
       "<p>6474 rows × 7 columns</p>\n",
       "</div>"
      ],
      "text/plain": [
       "      HomeTeam  AwayTeam  HTHG  HTAG  HTR_A  HTR_D  HTR_H\n",
       "5896        25        13     1     1      0      1      0\n",
       "3825        27         1     2     2      0      1      0\n",
       "1008        24        14     0     0      0      1      0\n",
       "511         31        37     1     1      0      1      0\n",
       "4475        15        29     0     0      0      1      0\n",
       "...        ...       ...   ...   ...    ...    ...    ...\n",
       "2916        24        23     0     0      0      1      0\n",
       "1718        43         1     1     1      0      1      0\n",
       "5840        47        35     0     0      0      1      0\n",
       "7910        45        30     0     1      1      0      0\n",
       "3694        24        46     1     0      0      0      1\n",
       "\n",
       "[6474 rows x 7 columns]"
      ]
     },
     "execution_count": 38,
     "metadata": {},
     "output_type": "execute_result"
    }
   ],
   "source": [
    "X_train"
   ]
  },
  {
   "cell_type": "code",
   "execution_count": 39,
   "metadata": {},
   "outputs": [
    {
     "data": {
      "text/html": [
       "<div>\n",
       "<style scoped>\n",
       "    .dataframe tbody tr th:only-of-type {\n",
       "        vertical-align: middle;\n",
       "    }\n",
       "\n",
       "    .dataframe tbody tr th {\n",
       "        vertical-align: top;\n",
       "    }\n",
       "\n",
       "    .dataframe thead th {\n",
       "        text-align: right;\n",
       "    }\n",
       "</style>\n",
       "<table border=\"1\" class=\"dataframe\">\n",
       "  <thead>\n",
       "    <tr style=\"text-align: right;\">\n",
       "      <th></th>\n",
       "      <th>HomeTeam</th>\n",
       "      <th>AwayTeam</th>\n",
       "      <th>HTHG</th>\n",
       "      <th>HTAG</th>\n",
       "      <th>HTR_A</th>\n",
       "      <th>HTR_D</th>\n",
       "      <th>HTR_H</th>\n",
       "    </tr>\n",
       "  </thead>\n",
       "  <tbody>\n",
       "    <tr>\n",
       "      <th>4555</th>\n",
       "      <td>15</td>\n",
       "      <td>1</td>\n",
       "      <td>1</td>\n",
       "      <td>0</td>\n",
       "      <td>0</td>\n",
       "      <td>0</td>\n",
       "      <td>1</td>\n",
       "    </tr>\n",
       "    <tr>\n",
       "      <th>2264</th>\n",
       "      <td>0</td>\n",
       "      <td>24</td>\n",
       "      <td>0</td>\n",
       "      <td>0</td>\n",
       "      <td>0</td>\n",
       "      <td>1</td>\n",
       "      <td>0</td>\n",
       "    </tr>\n",
       "    <tr>\n",
       "      <th>1434</th>\n",
       "      <td>13</td>\n",
       "      <td>29</td>\n",
       "      <td>1</td>\n",
       "      <td>1</td>\n",
       "      <td>0</td>\n",
       "      <td>1</td>\n",
       "      <td>0</td>\n",
       "    </tr>\n",
       "    <tr>\n",
       "      <th>3172</th>\n",
       "      <td>25</td>\n",
       "      <td>46</td>\n",
       "      <td>1</td>\n",
       "      <td>0</td>\n",
       "      <td>0</td>\n",
       "      <td>0</td>\n",
       "      <td>1</td>\n",
       "    </tr>\n",
       "    <tr>\n",
       "      <th>3113</th>\n",
       "      <td>26</td>\n",
       "      <td>23</td>\n",
       "      <td>0</td>\n",
       "      <td>0</td>\n",
       "      <td>0</td>\n",
       "      <td>1</td>\n",
       "      <td>0</td>\n",
       "    </tr>\n",
       "    <tr>\n",
       "      <th>...</th>\n",
       "      <td>...</td>\n",
       "      <td>...</td>\n",
       "      <td>...</td>\n",
       "      <td>...</td>\n",
       "      <td>...</td>\n",
       "      <td>...</td>\n",
       "      <td>...</td>\n",
       "    </tr>\n",
       "    <tr>\n",
       "      <th>5204</th>\n",
       "      <td>12</td>\n",
       "      <td>25</td>\n",
       "      <td>1</td>\n",
       "      <td>0</td>\n",
       "      <td>0</td>\n",
       "      <td>0</td>\n",
       "      <td>1</td>\n",
       "    </tr>\n",
       "    <tr>\n",
       "      <th>5197</th>\n",
       "      <td>29</td>\n",
       "      <td>12</td>\n",
       "      <td>0</td>\n",
       "      <td>0</td>\n",
       "      <td>0</td>\n",
       "      <td>1</td>\n",
       "      <td>0</td>\n",
       "    </tr>\n",
       "    <tr>\n",
       "      <th>5951</th>\n",
       "      <td>46</td>\n",
       "      <td>0</td>\n",
       "      <td>0</td>\n",
       "      <td>0</td>\n",
       "      <td>0</td>\n",
       "      <td>1</td>\n",
       "      <td>0</td>\n",
       "    </tr>\n",
       "    <tr>\n",
       "      <th>572</th>\n",
       "      <td>15</td>\n",
       "      <td>17</td>\n",
       "      <td>1</td>\n",
       "      <td>0</td>\n",
       "      <td>0</td>\n",
       "      <td>0</td>\n",
       "      <td>1</td>\n",
       "    </tr>\n",
       "    <tr>\n",
       "      <th>4552</th>\n",
       "      <td>33</td>\n",
       "      <td>30</td>\n",
       "      <td>0</td>\n",
       "      <td>1</td>\n",
       "      <td>1</td>\n",
       "      <td>0</td>\n",
       "      <td>0</td>\n",
       "    </tr>\n",
       "  </tbody>\n",
       "</table>\n",
       "<p>3190 rows × 7 columns</p>\n",
       "</div>"
      ],
      "text/plain": [
       "      HomeTeam  AwayTeam  HTHG  HTAG  HTR_A  HTR_D  HTR_H\n",
       "4555        15         1     1     0      0      0      1\n",
       "2264         0        24     0     0      0      1      0\n",
       "1434        13        29     1     1      0      1      0\n",
       "3172        25        46     1     0      0      0      1\n",
       "3113        26        23     0     0      0      1      0\n",
       "...        ...       ...   ...   ...    ...    ...    ...\n",
       "5204        12        25     1     0      0      0      1\n",
       "5197        29        12     0     0      0      1      0\n",
       "5951        46         0     0     0      0      1      0\n",
       "572         15        17     1     0      0      0      1\n",
       "4552        33        30     0     1      1      0      0\n",
       "\n",
       "[3190 rows x 7 columns]"
      ]
     },
     "execution_count": 39,
     "metadata": {},
     "output_type": "execute_result"
    }
   ],
   "source": [
    "X_test"
   ]
  },
  {
   "cell_type": "code",
   "execution_count": 40,
   "metadata": {},
   "outputs": [],
   "source": [
    "from sklearn.preprocessing import StandardScaler\n",
    "\n",
    "scaler = StandardScaler().fit(X_train)\n",
    "\n",
    "X_train = scaler.transform(X_train)\n",
    "\n",
    "X_test = scaler.transform(X_test)  "
   ]
  },
  {
   "cell_type": "markdown",
   "metadata": {},
   "source": [
    "**StandardScaler standardizes a feature by subtracting the mean and then scaling to unit variance.**"
   ]
  },
  {
   "cell_type": "code",
   "execution_count": 41,
   "metadata": {},
   "outputs": [],
   "source": [
    "X = np.squeeze(np.asarray(X_train))\n",
    "Y = np.squeeze(np.asarray(Y_train))\n",
    "Y_test = np.squeeze(np.asarray(Y_test))\n",
    "X_test= np.squeeze(np.asarray(X_test))"
   ]
  },
  {
   "cell_type": "code",
   "execution_count": 42,
   "metadata": {},
   "outputs": [
    {
     "data": {
      "text/plain": [
       "array([[ 0.04276062, -0.77764488,  0.37651271, ..., -0.52814878,\n",
       "         1.13153896, -0.72314299],\n",
       "       [ 0.18114216, -1.60045045,  1.61321654, ..., -0.52814878,\n",
       "         1.13153896, -0.72314299],\n",
       "       [-0.02643015, -0.70907775, -0.86019113, ..., -0.52814878,\n",
       "         1.13153896, -0.72314299],\n",
       "       ...,\n",
       "       [ 1.56495756,  0.73083198, -0.86019113, ..., -0.52814878,\n",
       "         1.13153896, -0.72314299],\n",
       "       [ 1.42657602,  0.38799633, -0.86019113, ...,  1.89340588,\n",
       "        -0.88375216, -0.72314299],\n",
       "       [-0.02643015,  1.48507042,  0.37651271, ..., -0.52814878,\n",
       "        -0.88375216,  1.38285238]])"
      ]
     },
     "execution_count": 42,
     "metadata": {},
     "output_type": "execute_result"
    }
   ],
   "source": [
    "X"
   ]
  },
  {
   "cell_type": "code",
   "execution_count": 43,
   "metadata": {},
   "outputs": [
    {
     "data": {
      "text/plain": [
       "array([0, 0, 1, ..., 1, 0, 2])"
      ]
     },
     "execution_count": 43,
     "metadata": {},
     "output_type": "execute_result"
    }
   ],
   "source": [
    "Y"
   ]
  },
  {
   "cell_type": "code",
   "execution_count": 44,
   "metadata": {},
   "outputs": [
    {
     "data": {
      "text/plain": [
       "array([2, 1, 1, ..., 0, 2, 1])"
      ]
     },
     "execution_count": 44,
     "metadata": {},
     "output_type": "execute_result"
    }
   ],
   "source": [
    "Y_test"
   ]
  },
  {
   "cell_type": "code",
   "execution_count": 45,
   "metadata": {},
   "outputs": [
    {
     "data": {
      "text/plain": [
       "array([[-0.64914708, -1.60045045,  0.37651271, ..., -0.52814878,\n",
       "        -0.88375216,  1.38285238],\n",
       "       [-1.68700863, -0.02340645, -0.86019113, ..., -0.52814878,\n",
       "         1.13153896, -0.72314299],\n",
       "       [-0.78752862,  0.3194292 ,  0.37651271, ..., -0.52814878,\n",
       "         1.13153896, -0.72314299],\n",
       "       ...,\n",
       "       [ 1.49576679, -1.66901758, -0.86019113, ..., -0.52814878,\n",
       "         1.13153896, -0.72314299],\n",
       "       [-0.64914708, -0.50337636,  0.37651271, ..., -0.52814878,\n",
       "        -0.88375216,  1.38285238],\n",
       "       [ 0.59628678,  0.38799633, -0.86019113, ...,  1.89340588,\n",
       "        -0.88375216, -0.72314299]])"
      ]
     },
     "execution_count": 45,
     "metadata": {},
     "output_type": "execute_result"
    }
   ],
   "source": [
    "X_test"
   ]
  },
  {
   "cell_type": "code",
   "execution_count": 46,
   "metadata": {},
   "outputs": [
    {
     "data": {
      "text/plain": [
       "(6474, 7)"
      ]
     },
     "execution_count": 46,
     "metadata": {},
     "output_type": "execute_result"
    }
   ],
   "source": [
    "X.shape"
   ]
  },
  {
   "cell_type": "code",
   "execution_count": 47,
   "metadata": {},
   "outputs": [
    {
     "data": {
      "text/plain": [
       "6474"
      ]
     },
     "execution_count": 47,
     "metadata": {},
     "output_type": "execute_result"
    }
   ],
   "source": [
    "m=X.shape[0]\n",
    "m"
   ]
  },
  {
   "cell_type": "markdown",
   "metadata": {},
   "source": [
    "**Where m=number of training examples**"
   ]
  },
  {
   "cell_type": "code",
   "execution_count": 48,
   "metadata": {},
   "outputs": [
    {
     "name": "stdout",
     "output_type": "stream",
     "text": [
      "WARNING:tensorflow:From C:\\Users\\Binvant\\anaconda3\\lib\\site-packages\\tensorflow\\python\\ops\\resource_variable_ops.py:435: colocate_with (from tensorflow.python.framework.ops) is deprecated and will be removed in a future version.\n",
      "Instructions for updating:\n",
      "Colocations handled automatically by placer.\n"
     ]
    }
   ],
   "source": [
    "model = keras.Sequential([\n",
    "    keras.layers.Dense(7,input_shape=(7,)),  # input layer (1)\n",
    "    keras.layers.Dense(6, activation=tf.nn.relu),#hidden layer(2)\n",
    "     keras.layers.Dense(4, activation=tf.nn.relu),# hidden layer (3)\n",
    "    keras.layers.Dense(3, activation=tf.nn.softmax) # output layer (4)\n",
    "])"
   ]
  },
  {
   "cell_type": "markdown",
   "metadata": {},
   "source": [
    "**Implementing a 4 layer Neural network with 2 hidden layers. The ReLu activation function is used in Hidden layers while Softmax Function is used in the Output Layer.** "
   ]
  },
  {
   "cell_type": "code",
   "execution_count": 49,
   "metadata": {},
   "outputs": [],
   "source": [
    "model.compile(optimizer='adam',\n",
    "              loss='sparse_categorical_crossentropy',\n",
    "              metrics=['accuracy'])"
   ]
  },
  {
   "cell_type": "code",
   "execution_count": 50,
   "metadata": {},
   "outputs": [
    {
     "name": "stdout",
     "output_type": "stream",
     "text": [
      "Epoch 1/40\n",
      "6474/6474 [==============================] - 0s 65us/sample - loss: 1.0948 - acc: 0.4603\n",
      "Epoch 2/40\n",
      "6474/6474 [==============================] - 0s 36us/sample - loss: 0.9668 - acc: 0.5987\n",
      "Epoch 3/40\n",
      "6474/6474 [==============================] - 0s 38us/sample - loss: 0.9286 - acc: 0.6067\n",
      "Epoch 4/40\n",
      "6474/6474 [==============================] - 0s 36us/sample - loss: 0.9025 - acc: 0.6137\n",
      "Epoch 5/40\n",
      "6474/6474 [==============================] - 0s 38us/sample - loss: 0.8835 - acc: 0.6138\n",
      "Epoch 6/40\n",
      "6474/6474 [==============================] - 0s 37us/sample - loss: 0.8708 - acc: 0.6149\n",
      "Epoch 7/40\n",
      "6474/6474 [==============================] - 0s 37us/sample - loss: 0.8608 - acc: 0.6124\n",
      "Epoch 8/40\n",
      "6474/6474 [==============================] - 0s 37us/sample - loss: 0.8544 - acc: 0.6135\n",
      "Epoch 9/40\n",
      "6474/6474 [==============================] - 0s 37us/sample - loss: 0.8484 - acc: 0.6109\n",
      "Epoch 10/40\n",
      "6474/6474 [==============================] - 0s 38us/sample - loss: 0.8438 - acc: 0.6135\n",
      "Epoch 11/40\n",
      "6474/6474 [==============================] - 0s 37us/sample - loss: 0.8407 - acc: 0.6118\n",
      "Epoch 12/40\n",
      "6474/6474 [==============================] - 0s 39us/sample - loss: 0.8380 - acc: 0.6103\n",
      "Epoch 13/40\n",
      "6474/6474 [==============================] - 0s 37us/sample - loss: 0.8360 - acc: 0.6111\n",
      "Epoch 14/40\n",
      "6474/6474 [==============================] - 0s 43us/sample - loss: 0.8344 - acc: 0.6104\n",
      "Epoch 15/40\n",
      "6474/6474 [==============================] - 0s 37us/sample - loss: 0.8328 - acc: 0.6115\n",
      "Epoch 16/40\n",
      "6474/6474 [==============================] - 0s 39us/sample - loss: 0.8318 - acc: 0.6134\n",
      "Epoch 17/40\n",
      "6474/6474 [==============================] - 0s 37us/sample - loss: 0.8315 - acc: 0.6154\n",
      "Epoch 18/40\n",
      "6474/6474 [==============================] - 0s 36us/sample - loss: 0.8304 - acc: 0.6121\n",
      "Epoch 19/40\n",
      "6474/6474 [==============================] - 0s 38us/sample - loss: 0.8298 - acc: 0.6152\n",
      "Epoch 20/40\n",
      "6474/6474 [==============================] - 0s 37us/sample - loss: 0.8292 - acc: 0.6135\n",
      "Epoch 21/40\n",
      "6474/6474 [==============================] - 0s 38us/sample - loss: 0.8288 - acc: 0.6160\n",
      "Epoch 22/40\n",
      "6474/6474 [==============================] - 0s 36us/sample - loss: 0.8283 - acc: 0.6134\n",
      "Epoch 23/40\n",
      "6474/6474 [==============================] - 0s 38us/sample - loss: 0.8284 - acc: 0.6169\n",
      "Epoch 24/40\n",
      "6474/6474 [==============================] - 0s 37us/sample - loss: 0.8279 - acc: 0.6175\n",
      "Epoch 25/40\n",
      "6474/6474 [==============================] - 0s 38us/sample - loss: 0.8270 - acc: 0.6174\n",
      "Epoch 26/40\n",
      "6474/6474 [==============================] - 0s 37us/sample - loss: 0.8269 - acc: 0.6131\n",
      "Epoch 27/40\n",
      "6474/6474 [==============================] - 0s 37us/sample - loss: 0.8272 - acc: 0.6174\n",
      "Epoch 28/40\n",
      "6474/6474 [==============================] - 0s 39us/sample - loss: 0.8264 - acc: 0.6146\n",
      "Epoch 29/40\n",
      "6474/6474 [==============================] - 0s 37us/sample - loss: 0.8259 - acc: 0.6186\n",
      "Epoch 30/40\n",
      "6474/6474 [==============================] - 0s 38us/sample - loss: 0.8264 - acc: 0.6123\n",
      "Epoch 31/40\n",
      "6474/6474 [==============================] - 0s 38us/sample - loss: 0.8254 - acc: 0.6152\n",
      "Epoch 32/40\n",
      "6474/6474 [==============================] - 0s 38us/sample - loss: 0.8252 - acc: 0.6155\n",
      "Epoch 33/40\n",
      "6474/6474 [==============================] - 0s 37us/sample - loss: 0.8250 - acc: 0.6158\n",
      "Epoch 34/40\n",
      "6474/6474 [==============================] - 0s 38us/sample - loss: 0.8246 - acc: 0.6162\n",
      "Epoch 35/40\n",
      "6474/6474 [==============================] - 0s 37us/sample - loss: 0.8245 - acc: 0.6166\n",
      "Epoch 36/40\n",
      "6474/6474 [==============================] - 0s 38us/sample - loss: 0.8245 - acc: 0.6152\n",
      "Epoch 37/40\n",
      "6474/6474 [==============================] - 0s 37us/sample - loss: 0.8238 - acc: 0.6152\n",
      "Epoch 38/40\n",
      "6474/6474 [==============================] - 0s 39us/sample - loss: 0.8243 - acc: 0.6157\n",
      "Epoch 39/40\n",
      "6474/6474 [==============================] - 0s 37us/sample - loss: 0.8244 - acc: 0.6162\n",
      "Epoch 40/40\n",
      "6474/6474 [==============================] - 0s 37us/sample - loss: 0.8240 - acc: 0.6177\n"
     ]
    },
    {
     "data": {
      "text/plain": [
       "<tensorflow.python.keras.callbacks.History at 0x189edcbaec8>"
      ]
     },
     "execution_count": 50,
     "metadata": {},
     "output_type": "execute_result"
    }
   ],
   "source": [
    "model.fit(X, Y, epochs=40)"
   ]
  },
  {
   "cell_type": "markdown",
   "metadata": {},
   "source": [
    "**As seen above, the accuracy on first epoch was just 56.9% but then it improved and we achieved 61% accuracy.**\n"
   ]
  },
  {
   "cell_type": "code",
   "execution_count": 51,
   "metadata": {},
   "outputs": [],
   "source": [
    "for layer in model.layers:\n",
    "    weights = layer.get_weights()"
   ]
  },
  {
   "cell_type": "code",
   "execution_count": 52,
   "metadata": {},
   "outputs": [
    {
     "data": {
      "text/plain": [
       "[array([[ 0.6299382 ,  0.6461588 , -0.17479119],\n",
       "        [ 0.90466464,  0.89000297, -0.23680376],\n",
       "        [ 0.46251607, -0.52089995, -0.885497  ],\n",
       "        [ 0.9645495 ,  0.12215985, -0.36645523]], dtype=float32),\n",
       " array([-1.4826138, -0.5802837,  1.602112 ], dtype=float32)]"
      ]
     },
     "execution_count": 52,
     "metadata": {},
     "output_type": "execute_result"
    }
   ],
   "source": [
    "weights\n"
   ]
  },
  {
   "cell_type": "markdown",
   "metadata": {},
   "source": [
    "These are the weights of the different neuron connections, weights nearer to 0 indicate that changing output do not affect the output"
   ]
  },
  {
   "cell_type": "code",
   "execution_count": 53,
   "metadata": {},
   "outputs": [
    {
     "name": "stdout",
     "output_type": "stream",
     "text": [
      "3190/3190 [==============================] - 0s 36us/sample - loss: 0.8271 - acc: 0.6166\n",
      "test_acc: 0.6166144 test_loss 0.8271317653521475\n"
     ]
    }
   ],
   "source": [
    "test_loss, test_acc = model.evaluate(X_test, Y_test)\n",
    "print('test_acc:', test_acc, 'test_loss', test_loss)"
   ]
  },
  {
   "cell_type": "markdown",
   "metadata": {},
   "source": [
    " **The accuracy(61.2%) and Test loss results are shown above**\n"
   ]
  },
  {
   "cell_type": "code",
   "execution_count": 54,
   "metadata": {},
   "outputs": [],
   "source": [
    "prediction=model.predict_classes(X_test[:])"
   ]
  },
  {
   "cell_type": "markdown",
   "metadata": {},
   "source": [
    "Here we try to see our predicted results. "
   ]
  },
  {
   "cell_type": "code",
   "execution_count": 55,
   "metadata": {},
   "outputs": [
    {
     "name": "stdout",
     "output_type": "stream",
     "text": [
      "[2 1 2 ... 1 2 0]\n"
     ]
    }
   ],
   "source": [
    "print(prediction)"
   ]
  },
  {
   "cell_type": "markdown",
   "metadata": {},
   "source": [
    "#1 means a draw\n",
    "#2 represents Home Team win\n",
    "#3 represents Away Team win"
   ]
  },
  {
   "cell_type": "code",
   "execution_count": 56,
   "metadata": {},
   "outputs": [
    {
     "name": "stdout",
     "output_type": "stream",
     "text": [
      "[2 1 1 ... 0 2 1]\n"
     ]
    }
   ],
   "source": [
    "print(Y_test)"
   ]
  },
  {
   "cell_type": "code",
   "execution_count": 57,
   "metadata": {},
   "outputs": [],
   "source": [
    "def compare(y_pred, model_name):\n",
    "    test_values=[np.count_nonzero(Y_test==0),np.count_nonzero(Y_test==1), np.count_nonzero(Y_test==2)]\n",
    "    pred_values=[np.count_nonzero(prediction==0),np.count_nonzero(prediction==1), np.count_nonzero(prediction==2)]\n",
    "    plt.figure()\n",
    "    N=3\n",
    "    width=0.35\n",
    "    idx=np.arange(N)\n",
    "    plt.bar(idx, test_values, width, label='True Vals')\n",
    "    plt.bar(idx+width, pred_values, width, label='Predicted Vals')\n",
    "    plt.ylabel('Number of Matches')\n",
    "    plt.title(f'{model_name} Performance Measure per Category')\n",
    "    plt.xticks(idx + width / 2, ('Away', 'Draw', 'Home'))\n",
    "    plt.legend(loc='best')\n",
    "    plt.show()"
   ]
  },
  {
   "cell_type": "code",
   "execution_count": 58,
   "metadata": {},
   "outputs": [
    {
     "data": {
      "image/png": "[encoded data removed]",
      "text/plain": [
       "<Figure size 432x288 with 1 Axes>"
      ]
     },
     "metadata": {
      "needs_background": "light"
     },
     "output_type": "display_data"
    }
   ],
   "source": [
    "compare(prediction, 'ANN')"
   ]
  },
  {
   "cell_type": "markdown",
   "metadata": {},
   "source": [
    "**Now, As our model had predicted Premier league's outcomes with 61.9% accuracy, We will further test it on La Liga's data to measure it's performance on various datasets. The 2018-2019 Season data was used for this purpose.**"
   ]
  },
  {
   "cell_type": "code",
   "execution_count": 59,
   "metadata": {},
   "outputs": [],
   "source": [
    "data2=pd.read_csv(\"laliga.csv\")"
   ]
  },
  {
   "cell_type": "code",
   "execution_count": 60,
   "metadata": {},
   "outputs": [
    {
     "data": {
      "text/html": [
       "<div>\n",
       "<style scoped>\n",
       "    .dataframe tbody tr th:only-of-type {\n",
       "        vertical-align: middle;\n",
       "    }\n",
       "\n",
       "    .dataframe tbody tr th {\n",
       "        vertical-align: top;\n",
       "    }\n",
       "\n",
       "    .dataframe thead th {\n",
       "        text-align: right;\n",
       "    }\n",
       "</style>\n",
       "<table border=\"1\" class=\"dataframe\">\n",
       "  <thead>\n",
       "    <tr style=\"text-align: right;\">\n",
       "      <th></th>\n",
       "      <th>Div</th>\n",
       "      <th>Date</th>\n",
       "      <th>HomeTeam</th>\n",
       "      <th>AwayTeam</th>\n",
       "      <th>FTHG</th>\n",
       "      <th>FTAG</th>\n",
       "      <th>FTR</th>\n",
       "      <th>HTHG</th>\n",
       "      <th>HTAG</th>\n",
       "      <th>HTR</th>\n",
       "    </tr>\n",
       "  </thead>\n",
       "  <tbody>\n",
       "    <tr>\n",
       "      <th>0</th>\n",
       "      <td>SP1</td>\n",
       "      <td>17-08-2018</td>\n",
       "      <td>Betis</td>\n",
       "      <td>Levante</td>\n",
       "      <td>0</td>\n",
       "      <td>3</td>\n",
       "      <td>A</td>\n",
       "      <td>0</td>\n",
       "      <td>1</td>\n",
       "      <td>A</td>\n",
       "    </tr>\n",
       "    <tr>\n",
       "      <th>1</th>\n",
       "      <td>SP1</td>\n",
       "      <td>17-08-2018</td>\n",
       "      <td>Girona</td>\n",
       "      <td>Valladolid</td>\n",
       "      <td>0</td>\n",
       "      <td>0</td>\n",
       "      <td>D</td>\n",
       "      <td>0</td>\n",
       "      <td>0</td>\n",
       "      <td>D</td>\n",
       "    </tr>\n",
       "    <tr>\n",
       "      <th>2</th>\n",
       "      <td>SP1</td>\n",
       "      <td>18-08-2018</td>\n",
       "      <td>Barcelona</td>\n",
       "      <td>Alaves</td>\n",
       "      <td>3</td>\n",
       "      <td>0</td>\n",
       "      <td>H</td>\n",
       "      <td>0</td>\n",
       "      <td>0</td>\n",
       "      <td>D</td>\n",
       "    </tr>\n",
       "    <tr>\n",
       "      <th>3</th>\n",
       "      <td>SP1</td>\n",
       "      <td>18-08-2018</td>\n",
       "      <td>Celta</td>\n",
       "      <td>Espanol</td>\n",
       "      <td>1</td>\n",
       "      <td>1</td>\n",
       "      <td>D</td>\n",
       "      <td>0</td>\n",
       "      <td>1</td>\n",
       "      <td>A</td>\n",
       "    </tr>\n",
       "    <tr>\n",
       "      <th>4</th>\n",
       "      <td>SP1</td>\n",
       "      <td>18-08-2018</td>\n",
       "      <td>Villarreal</td>\n",
       "      <td>Sociedad</td>\n",
       "      <td>1</td>\n",
       "      <td>2</td>\n",
       "      <td>A</td>\n",
       "      <td>1</td>\n",
       "      <td>1</td>\n",
       "      <td>D</td>\n",
       "    </tr>\n",
       "    <tr>\n",
       "      <th>...</th>\n",
       "      <td>...</td>\n",
       "      <td>...</td>\n",
       "      <td>...</td>\n",
       "      <td>...</td>\n",
       "      <td>...</td>\n",
       "      <td>...</td>\n",
       "      <td>...</td>\n",
       "      <td>...</td>\n",
       "      <td>...</td>\n",
       "      <td>...</td>\n",
       "    </tr>\n",
       "    <tr>\n",
       "      <th>375</th>\n",
       "      <td>SP1</td>\n",
       "      <td>18-05-2019</td>\n",
       "      <td>Levante</td>\n",
       "      <td>Ath Madrid</td>\n",
       "      <td>2</td>\n",
       "      <td>2</td>\n",
       "      <td>D</td>\n",
       "      <td>2</td>\n",
       "      <td>0</td>\n",
       "      <td>H</td>\n",
       "    </tr>\n",
       "    <tr>\n",
       "      <th>376</th>\n",
       "      <td>SP1</td>\n",
       "      <td>18-05-2019</td>\n",
       "      <td>Sevilla</td>\n",
       "      <td>Ath Bilbao</td>\n",
       "      <td>2</td>\n",
       "      <td>0</td>\n",
       "      <td>H</td>\n",
       "      <td>1</td>\n",
       "      <td>0</td>\n",
       "      <td>H</td>\n",
       "    </tr>\n",
       "    <tr>\n",
       "      <th>377</th>\n",
       "      <td>SP1</td>\n",
       "      <td>18-05-2019</td>\n",
       "      <td>Valladolid</td>\n",
       "      <td>Valencia</td>\n",
       "      <td>0</td>\n",
       "      <td>2</td>\n",
       "      <td>A</td>\n",
       "      <td>0</td>\n",
       "      <td>1</td>\n",
       "      <td>A</td>\n",
       "    </tr>\n",
       "    <tr>\n",
       "      <th>378</th>\n",
       "      <td>SP1</td>\n",
       "      <td>19-05-2019</td>\n",
       "      <td>Eibar</td>\n",
       "      <td>Barcelona</td>\n",
       "      <td>2</td>\n",
       "      <td>2</td>\n",
       "      <td>D</td>\n",
       "      <td>2</td>\n",
       "      <td>2</td>\n",
       "      <td>D</td>\n",
       "    </tr>\n",
       "    <tr>\n",
       "      <th>379</th>\n",
       "      <td>SP1</td>\n",
       "      <td>19-05-2019</td>\n",
       "      <td>Real Madrid</td>\n",
       "      <td>Betis</td>\n",
       "      <td>0</td>\n",
       "      <td>2</td>\n",
       "      <td>A</td>\n",
       "      <td>0</td>\n",
       "      <td>0</td>\n",
       "      <td>D</td>\n",
       "    </tr>\n",
       "  </tbody>\n",
       "</table>\n",
       "<p>380 rows × 10 columns</p>\n",
       "</div>"
      ],
      "text/plain": [
       "     Div        Date     HomeTeam    AwayTeam  FTHG  FTAG FTR  HTHG  HTAG HTR\n",
       "0    SP1  17-08-2018        Betis     Levante     0     3   A     0     1   A\n",
       "1    SP1  17-08-2018       Girona  Valladolid     0     0   D     0     0   D\n",
       "2    SP1  18-08-2018    Barcelona      Alaves     3     0   H     0     0   D\n",
       "3    SP1  18-08-2018        Celta     Espanol     1     1   D     0     1   A\n",
       "4    SP1  18-08-2018   Villarreal    Sociedad     1     2   A     1     1   D\n",
       "..   ...         ...          ...         ...   ...   ...  ..   ...   ...  ..\n",
       "375  SP1  18-05-2019      Levante  Ath Madrid     2     2   D     2     0   H\n",
       "376  SP1  18-05-2019      Sevilla  Ath Bilbao     2     0   H     1     0   H\n",
       "377  SP1  18-05-2019   Valladolid    Valencia     0     2   A     0     1   A\n",
       "378  SP1  19-05-2019        Eibar   Barcelona     2     2   D     2     2   D\n",
       "379  SP1  19-05-2019  Real Madrid       Betis     0     2   A     0     0   D\n",
       "\n",
       "[380 rows x 10 columns]"
      ]
     },
     "execution_count": 60,
     "metadata": {},
     "output_type": "execute_result"
    }
   ],
   "source": [
    "data2"
   ]
  },
  {
   "cell_type": "code",
   "execution_count": 61,
   "metadata": {},
   "outputs": [
    {
     "data": {
      "text/plain": [
       "<matplotlib.axes._subplots.AxesSubplot at 0x189eedc7a08>"
      ]
     },
     "execution_count": 61,
     "metadata": {},
     "output_type": "execute_result"
    },
    {
     "data": {
      "image/png": "[encoded data removed]",
      "text/plain": [
       "<Figure size 432x288 with 1 Axes>"
      ]
     },
     "metadata": {
      "needs_background": "light"
     },
     "output_type": "display_data"
    }
   ],
   "source": [
    "sns.heatmap(data2.isnull(),cmap=\"viridis\",yticklabels=False,cbar=False)"
   ]
  },
  {
   "cell_type": "markdown",
   "metadata": {},
   "source": [
    "From this heatmap, we can see that there are no NaN values in our dataset."
   ]
  },
  {
   "cell_type": "code",
   "execution_count": 62,
   "metadata": {},
   "outputs": [],
   "source": [
    "data2.drop(\"Div\",axis=1,inplace=True)\n",
    "data2.drop(\"Date\",axis=1,inplace=True)\n",
    "data2.drop(\"FTHG\",axis=1,inplace=True)\n",
    "data2.drop(\"FTAG\",axis=1,inplace=True)"
   ]
  },
  {
   "cell_type": "code",
   "execution_count": 63,
   "metadata": {},
   "outputs": [
    {
     "data": {
      "text/html": [
       "<div>\n",
       "<style scoped>\n",
       "    .dataframe tbody tr th:only-of-type {\n",
       "        vertical-align: middle;\n",
       "    }\n",
       "\n",
       "    .dataframe tbody tr th {\n",
       "        vertical-align: top;\n",
       "    }\n",
       "\n",
       "    .dataframe thead th {\n",
       "        text-align: right;\n",
       "    }\n",
       "</style>\n",
       "<table border=\"1\" class=\"dataframe\">\n",
       "  <thead>\n",
       "    <tr style=\"text-align: right;\">\n",
       "      <th></th>\n",
       "      <th>HomeTeam</th>\n",
       "      <th>AwayTeam</th>\n",
       "      <th>FTR</th>\n",
       "      <th>HTHG</th>\n",
       "      <th>HTAG</th>\n",
       "      <th>HTR</th>\n",
       "    </tr>\n",
       "  </thead>\n",
       "  <tbody>\n",
       "    <tr>\n",
       "      <th>0</th>\n",
       "      <td>Betis</td>\n",
       "      <td>Levante</td>\n",
       "      <td>A</td>\n",
       "      <td>0</td>\n",
       "      <td>1</td>\n",
       "      <td>A</td>\n",
       "    </tr>\n",
       "    <tr>\n",
       "      <th>1</th>\n",
       "      <td>Girona</td>\n",
       "      <td>Valladolid</td>\n",
       "      <td>D</td>\n",
       "      <td>0</td>\n",
       "      <td>0</td>\n",
       "      <td>D</td>\n",
       "    </tr>\n",
       "    <tr>\n",
       "      <th>2</th>\n",
       "      <td>Barcelona</td>\n",
       "      <td>Alaves</td>\n",
       "      <td>H</td>\n",
       "      <td>0</td>\n",
       "      <td>0</td>\n",
       "      <td>D</td>\n",
       "    </tr>\n",
       "    <tr>\n",
       "      <th>3</th>\n",
       "      <td>Celta</td>\n",
       "      <td>Espanol</td>\n",
       "      <td>D</td>\n",
       "      <td>0</td>\n",
       "      <td>1</td>\n",
       "      <td>A</td>\n",
       "    </tr>\n",
       "    <tr>\n",
       "      <th>4</th>\n",
       "      <td>Villarreal</td>\n",
       "      <td>Sociedad</td>\n",
       "      <td>A</td>\n",
       "      <td>1</td>\n",
       "      <td>1</td>\n",
       "      <td>D</td>\n",
       "    </tr>\n",
       "    <tr>\n",
       "      <th>...</th>\n",
       "      <td>...</td>\n",
       "      <td>...</td>\n",
       "      <td>...</td>\n",
       "      <td>...</td>\n",
       "      <td>...</td>\n",
       "      <td>...</td>\n",
       "    </tr>\n",
       "    <tr>\n",
       "      <th>375</th>\n",
       "      <td>Levante</td>\n",
       "      <td>Ath Madrid</td>\n",
       "      <td>D</td>\n",
       "      <td>2</td>\n",
       "      <td>0</td>\n",
       "      <td>H</td>\n",
       "    </tr>\n",
       "    <tr>\n",
       "      <th>376</th>\n",
       "      <td>Sevilla</td>\n",
       "      <td>Ath Bilbao</td>\n",
       "      <td>H</td>\n",
       "      <td>1</td>\n",
       "      <td>0</td>\n",
       "      <td>H</td>\n",
       "    </tr>\n",
       "    <tr>\n",
       "      <th>377</th>\n",
       "      <td>Valladolid</td>\n",
       "      <td>Valencia</td>\n",
       "      <td>A</td>\n",
       "      <td>0</td>\n",
       "      <td>1</td>\n",
       "      <td>A</td>\n",
       "    </tr>\n",
       "    <tr>\n",
       "      <th>378</th>\n",
       "      <td>Eibar</td>\n",
       "      <td>Barcelona</td>\n",
       "      <td>D</td>\n",
       "      <td>2</td>\n",
       "      <td>2</td>\n",
       "      <td>D</td>\n",
       "    </tr>\n",
       "    <tr>\n",
       "      <th>379</th>\n",
       "      <td>Real Madrid</td>\n",
       "      <td>Betis</td>\n",
       "      <td>A</td>\n",
       "      <td>0</td>\n",
       "      <td>0</td>\n",
       "      <td>D</td>\n",
       "    </tr>\n",
       "  </tbody>\n",
       "</table>\n",
       "<p>380 rows × 6 columns</p>\n",
       "</div>"
      ],
      "text/plain": [
       "        HomeTeam    AwayTeam FTR  HTHG  HTAG HTR\n",
       "0          Betis     Levante   A     0     1   A\n",
       "1         Girona  Valladolid   D     0     0   D\n",
       "2      Barcelona      Alaves   H     0     0   D\n",
       "3          Celta     Espanol   D     0     1   A\n",
       "4     Villarreal    Sociedad   A     1     1   D\n",
       "..           ...         ...  ..   ...   ...  ..\n",
       "375      Levante  Ath Madrid   D     2     0   H\n",
       "376      Sevilla  Ath Bilbao   H     1     0   H\n",
       "377   Valladolid    Valencia   A     0     1   A\n",
       "378        Eibar   Barcelona   D     2     2   D\n",
       "379  Real Madrid       Betis   A     0     0   D\n",
       "\n",
       "[380 rows x 6 columns]"
      ]
     },
     "execution_count": 63,
     "metadata": {},
     "output_type": "execute_result"
    }
   ],
   "source": [
    "data2"
   ]
  },
  {
   "cell_type": "code",
   "execution_count": 64,
   "metadata": {},
   "outputs": [],
   "source": [
    "b=pd.get_dummies(data2[\"HTR\"],prefix=\"HTR\")\n",
    "data2=pd.concat([data2,b],axis=1)"
   ]
  },
  {
   "cell_type": "code",
   "execution_count": 65,
   "metadata": {},
   "outputs": [],
   "source": [
    "data2.drop(\"HTR\",axis=1,inplace=True)"
   ]
  },
  {
   "cell_type": "code",
   "execution_count": 66,
   "metadata": {},
   "outputs": [
    {
     "data": {
      "text/html": [
       "<div>\n",
       "<style scoped>\n",
       "    .dataframe tbody tr th:only-of-type {\n",
       "        vertical-align: middle;\n",
       "    }\n",
       "\n",
       "    .dataframe tbody tr th {\n",
       "        vertical-align: top;\n",
       "    }\n",
       "\n",
       "    .dataframe thead th {\n",
       "        text-align: right;\n",
       "    }\n",
       "</style>\n",
       "<table border=\"1\" class=\"dataframe\">\n",
       "  <thead>\n",
       "    <tr style=\"text-align: right;\">\n",
       "      <th></th>\n",
       "      <th>HomeTeam</th>\n",
       "      <th>AwayTeam</th>\n",
       "      <th>FTR</th>\n",
       "      <th>HTHG</th>\n",
       "      <th>HTAG</th>\n",
       "      <th>HTR_A</th>\n",
       "      <th>HTR_D</th>\n",
       "      <th>HTR_H</th>\n",
       "    </tr>\n",
       "  </thead>\n",
       "  <tbody>\n",
       "    <tr>\n",
       "      <th>0</th>\n",
       "      <td>Betis</td>\n",
       "      <td>Levante</td>\n",
       "      <td>A</td>\n",
       "      <td>0</td>\n",
       "      <td>1</td>\n",
       "      <td>1</td>\n",
       "      <td>0</td>\n",
       "      <td>0</td>\n",
       "    </tr>\n",
       "    <tr>\n",
       "      <th>1</th>\n",
       "      <td>Girona</td>\n",
       "      <td>Valladolid</td>\n",
       "      <td>D</td>\n",
       "      <td>0</td>\n",
       "      <td>0</td>\n",
       "      <td>0</td>\n",
       "      <td>1</td>\n",
       "      <td>0</td>\n",
       "    </tr>\n",
       "    <tr>\n",
       "      <th>2</th>\n",
       "      <td>Barcelona</td>\n",
       "      <td>Alaves</td>\n",
       "      <td>H</td>\n",
       "      <td>0</td>\n",
       "      <td>0</td>\n",
       "      <td>0</td>\n",
       "      <td>1</td>\n",
       "      <td>0</td>\n",
       "    </tr>\n",
       "    <tr>\n",
       "      <th>3</th>\n",
       "      <td>Celta</td>\n",
       "      <td>Espanol</td>\n",
       "      <td>D</td>\n",
       "      <td>0</td>\n",
       "      <td>1</td>\n",
       "      <td>1</td>\n",
       "      <td>0</td>\n",
       "      <td>0</td>\n",
       "    </tr>\n",
       "    <tr>\n",
       "      <th>4</th>\n",
       "      <td>Villarreal</td>\n",
       "      <td>Sociedad</td>\n",
       "      <td>A</td>\n",
       "      <td>1</td>\n",
       "      <td>1</td>\n",
       "      <td>0</td>\n",
       "      <td>1</td>\n",
       "      <td>0</td>\n",
       "    </tr>\n",
       "    <tr>\n",
       "      <th>...</th>\n",
       "      <td>...</td>\n",
       "      <td>...</td>\n",
       "      <td>...</td>\n",
       "      <td>...</td>\n",
       "      <td>...</td>\n",
       "      <td>...</td>\n",
       "      <td>...</td>\n",
       "      <td>...</td>\n",
       "    </tr>\n",
       "    <tr>\n",
       "      <th>375</th>\n",
       "      <td>Levante</td>\n",
       "      <td>Ath Madrid</td>\n",
       "      <td>D</td>\n",
       "      <td>2</td>\n",
       "      <td>0</td>\n",
       "      <td>0</td>\n",
       "      <td>0</td>\n",
       "      <td>1</td>\n",
       "    </tr>\n",
       "    <tr>\n",
       "      <th>376</th>\n",
       "      <td>Sevilla</td>\n",
       "      <td>Ath Bilbao</td>\n",
       "      <td>H</td>\n",
       "      <td>1</td>\n",
       "      <td>0</td>\n",
       "      <td>0</td>\n",
       "      <td>0</td>\n",
       "      <td>1</td>\n",
       "    </tr>\n",
       "    <tr>\n",
       "      <th>377</th>\n",
       "      <td>Valladolid</td>\n",
       "      <td>Valencia</td>\n",
       "      <td>A</td>\n",
       "      <td>0</td>\n",
       "      <td>1</td>\n",
       "      <td>1</td>\n",
       "      <td>0</td>\n",
       "      <td>0</td>\n",
       "    </tr>\n",
       "    <tr>\n",
       "      <th>378</th>\n",
       "      <td>Eibar</td>\n",
       "      <td>Barcelona</td>\n",
       "      <td>D</td>\n",
       "      <td>2</td>\n",
       "      <td>2</td>\n",
       "      <td>0</td>\n",
       "      <td>1</td>\n",
       "      <td>0</td>\n",
       "    </tr>\n",
       "    <tr>\n",
       "      <th>379</th>\n",
       "      <td>Real Madrid</td>\n",
       "      <td>Betis</td>\n",
       "      <td>A</td>\n",
       "      <td>0</td>\n",
       "      <td>0</td>\n",
       "      <td>0</td>\n",
       "      <td>1</td>\n",
       "      <td>0</td>\n",
       "    </tr>\n",
       "  </tbody>\n",
       "</table>\n",
       "<p>380 rows × 8 columns</p>\n",
       "</div>"
      ],
      "text/plain": [
       "        HomeTeam    AwayTeam FTR  HTHG  HTAG  HTR_A  HTR_D  HTR_H\n",
       "0          Betis     Levante   A     0     1      1      0      0\n",
       "1         Girona  Valladolid   D     0     0      0      1      0\n",
       "2      Barcelona      Alaves   H     0     0      0      1      0\n",
       "3          Celta     Espanol   D     0     1      1      0      0\n",
       "4     Villarreal    Sociedad   A     1     1      0      1      0\n",
       "..           ...         ...  ..   ...   ...    ...    ...    ...\n",
       "375      Levante  Ath Madrid   D     2     0      0      0      1\n",
       "376      Sevilla  Ath Bilbao   H     1     0      0      0      1\n",
       "377   Valladolid    Valencia   A     0     1      1      0      0\n",
       "378        Eibar   Barcelona   D     2     2      0      1      0\n",
       "379  Real Madrid       Betis   A     0     0      0      1      0\n",
       "\n",
       "[380 rows x 8 columns]"
      ]
     },
     "execution_count": 66,
     "metadata": {},
     "output_type": "execute_result"
    }
   ],
   "source": [
    "data2"
   ]
  },
  {
   "cell_type": "code",
   "execution_count": 67,
   "metadata": {},
   "outputs": [],
   "source": [
    "L1_all = data2.drop(['FTR'],1)\n",
    "L2_all=data2.drop(['HomeTeam','AwayTeam','HTHG','HTAG','HTR_A','HTR_D','HTR_H'],1)"
   ]
  },
  {
   "cell_type": "code",
   "execution_count": 68,
   "metadata": {},
   "outputs": [
    {
     "data": {
      "text/html": [
       "<div>\n",
       "<style scoped>\n",
       "    .dataframe tbody tr th:only-of-type {\n",
       "        vertical-align: middle;\n",
       "    }\n",
       "\n",
       "    .dataframe tbody tr th {\n",
       "        vertical-align: top;\n",
       "    }\n",
       "\n",
       "    .dataframe thead th {\n",
       "        text-align: right;\n",
       "    }\n",
       "</style>\n",
       "<table border=\"1\" class=\"dataframe\">\n",
       "  <thead>\n",
       "    <tr style=\"text-align: right;\">\n",
       "      <th></th>\n",
       "      <th>HomeTeam</th>\n",
       "      <th>AwayTeam</th>\n",
       "      <th>HTHG</th>\n",
       "      <th>HTAG</th>\n",
       "      <th>HTR_A</th>\n",
       "      <th>HTR_D</th>\n",
       "      <th>HTR_H</th>\n",
       "    </tr>\n",
       "  </thead>\n",
       "  <tbody>\n",
       "    <tr>\n",
       "      <th>0</th>\n",
       "      <td>Betis</td>\n",
       "      <td>Levante</td>\n",
       "      <td>0</td>\n",
       "      <td>1</td>\n",
       "      <td>1</td>\n",
       "      <td>0</td>\n",
       "      <td>0</td>\n",
       "    </tr>\n",
       "    <tr>\n",
       "      <th>1</th>\n",
       "      <td>Girona</td>\n",
       "      <td>Valladolid</td>\n",
       "      <td>0</td>\n",
       "      <td>0</td>\n",
       "      <td>0</td>\n",
       "      <td>1</td>\n",
       "      <td>0</td>\n",
       "    </tr>\n",
       "    <tr>\n",
       "      <th>2</th>\n",
       "      <td>Barcelona</td>\n",
       "      <td>Alaves</td>\n",
       "      <td>0</td>\n",
       "      <td>0</td>\n",
       "      <td>0</td>\n",
       "      <td>1</td>\n",
       "      <td>0</td>\n",
       "    </tr>\n",
       "    <tr>\n",
       "      <th>3</th>\n",
       "      <td>Celta</td>\n",
       "      <td>Espanol</td>\n",
       "      <td>0</td>\n",
       "      <td>1</td>\n",
       "      <td>1</td>\n",
       "      <td>0</td>\n",
       "      <td>0</td>\n",
       "    </tr>\n",
       "    <tr>\n",
       "      <th>4</th>\n",
       "      <td>Villarreal</td>\n",
       "      <td>Sociedad</td>\n",
       "      <td>1</td>\n",
       "      <td>1</td>\n",
       "      <td>0</td>\n",
       "      <td>1</td>\n",
       "      <td>0</td>\n",
       "    </tr>\n",
       "    <tr>\n",
       "      <th>...</th>\n",
       "      <td>...</td>\n",
       "      <td>...</td>\n",
       "      <td>...</td>\n",
       "      <td>...</td>\n",
       "      <td>...</td>\n",
       "      <td>...</td>\n",
       "      <td>...</td>\n",
       "    </tr>\n",
       "    <tr>\n",
       "      <th>375</th>\n",
       "      <td>Levante</td>\n",
       "      <td>Ath Madrid</td>\n",
       "      <td>2</td>\n",
       "      <td>0</td>\n",
       "      <td>0</td>\n",
       "      <td>0</td>\n",
       "      <td>1</td>\n",
       "    </tr>\n",
       "    <tr>\n",
       "      <th>376</th>\n",
       "      <td>Sevilla</td>\n",
       "      <td>Ath Bilbao</td>\n",
       "      <td>1</td>\n",
       "      <td>0</td>\n",
       "      <td>0</td>\n",
       "      <td>0</td>\n",
       "      <td>1</td>\n",
       "    </tr>\n",
       "    <tr>\n",
       "      <th>377</th>\n",
       "      <td>Valladolid</td>\n",
       "      <td>Valencia</td>\n",
       "      <td>0</td>\n",
       "      <td>1</td>\n",
       "      <td>1</td>\n",
       "      <td>0</td>\n",
       "      <td>0</td>\n",
       "    </tr>\n",
       "    <tr>\n",
       "      <th>378</th>\n",
       "      <td>Eibar</td>\n",
       "      <td>Barcelona</td>\n",
       "      <td>2</td>\n",
       "      <td>2</td>\n",
       "      <td>0</td>\n",
       "      <td>1</td>\n",
       "      <td>0</td>\n",
       "    </tr>\n",
       "    <tr>\n",
       "      <th>379</th>\n",
       "      <td>Real Madrid</td>\n",
       "      <td>Betis</td>\n",
       "      <td>0</td>\n",
       "      <td>0</td>\n",
       "      <td>0</td>\n",
       "      <td>1</td>\n",
       "      <td>0</td>\n",
       "    </tr>\n",
       "  </tbody>\n",
       "</table>\n",
       "<p>380 rows × 7 columns</p>\n",
       "</div>"
      ],
      "text/plain": [
       "        HomeTeam    AwayTeam  HTHG  HTAG  HTR_A  HTR_D  HTR_H\n",
       "0          Betis     Levante     0     1      1      0      0\n",
       "1         Girona  Valladolid     0     0      0      1      0\n",
       "2      Barcelona      Alaves     0     0      0      1      0\n",
       "3          Celta     Espanol     0     1      1      0      0\n",
       "4     Villarreal    Sociedad     1     1      0      1      0\n",
       "..           ...         ...   ...   ...    ...    ...    ...\n",
       "375      Levante  Ath Madrid     2     0      0      0      1\n",
       "376      Sevilla  Ath Bilbao     1     0      0      0      1\n",
       "377   Valladolid    Valencia     0     1      1      0      0\n",
       "378        Eibar   Barcelona     2     2      0      1      0\n",
       "379  Real Madrid       Betis     0     0      0      1      0\n",
       "\n",
       "[380 rows x 7 columns]"
      ]
     },
     "execution_count": 68,
     "metadata": {},
     "output_type": "execute_result"
    }
   ],
   "source": [
    "L1_all"
   ]
  },
  {
   "cell_type": "code",
   "execution_count": 69,
   "metadata": {},
   "outputs": [
    {
     "data": {
      "text/html": [
       "<div>\n",
       "<style scoped>\n",
       "    .dataframe tbody tr th:only-of-type {\n",
       "        vertical-align: middle;\n",
       "    }\n",
       "\n",
       "    .dataframe tbody tr th {\n",
       "        vertical-align: top;\n",
       "    }\n",
       "\n",
       "    .dataframe thead th {\n",
       "        text-align: right;\n",
       "    }\n",
       "</style>\n",
       "<table border=\"1\" class=\"dataframe\">\n",
       "  <thead>\n",
       "    <tr style=\"text-align: right;\">\n",
       "      <th></th>\n",
       "      <th>FTR</th>\n",
       "    </tr>\n",
       "  </thead>\n",
       "  <tbody>\n",
       "    <tr>\n",
       "      <th>0</th>\n",
       "      <td>A</td>\n",
       "    </tr>\n",
       "    <tr>\n",
       "      <th>1</th>\n",
       "      <td>D</td>\n",
       "    </tr>\n",
       "    <tr>\n",
       "      <th>2</th>\n",
       "      <td>H</td>\n",
       "    </tr>\n",
       "    <tr>\n",
       "      <th>3</th>\n",
       "      <td>D</td>\n",
       "    </tr>\n",
       "    <tr>\n",
       "      <th>4</th>\n",
       "      <td>A</td>\n",
       "    </tr>\n",
       "    <tr>\n",
       "      <th>...</th>\n",
       "      <td>...</td>\n",
       "    </tr>\n",
       "    <tr>\n",
       "      <th>375</th>\n",
       "      <td>D</td>\n",
       "    </tr>\n",
       "    <tr>\n",
       "      <th>376</th>\n",
       "      <td>H</td>\n",
       "    </tr>\n",
       "    <tr>\n",
       "      <th>377</th>\n",
       "      <td>A</td>\n",
       "    </tr>\n",
       "    <tr>\n",
       "      <th>378</th>\n",
       "      <td>D</td>\n",
       "    </tr>\n",
       "    <tr>\n",
       "      <th>379</th>\n",
       "      <td>A</td>\n",
       "    </tr>\n",
       "  </tbody>\n",
       "</table>\n",
       "<p>380 rows × 1 columns</p>\n",
       "</div>"
      ],
      "text/plain": [
       "    FTR\n",
       "0     A\n",
       "1     D\n",
       "2     H\n",
       "3     D\n",
       "4     A\n",
       "..   ..\n",
       "375   D\n",
       "376   H\n",
       "377   A\n",
       "378   D\n",
       "379   A\n",
       "\n",
       "[380 rows x 1 columns]"
      ]
     },
     "execution_count": 69,
     "metadata": {},
     "output_type": "execute_result"
    }
   ],
   "source": [
    "L2_all"
   ]
  },
  {
   "cell_type": "markdown",
   "metadata": {},
   "source": [
    "Now, we will use LabelEncoding to convert into Numerical data"
   ]
  },
  {
   "cell_type": "code",
   "execution_count": 70,
   "metadata": {},
   "outputs": [],
   "source": [
    "from sklearn.preprocessing import LabelEncoder\n",
    "le = LabelEncoder()\n",
    "L1_all['HomeTeam'] = le.fit_transform(data2.HomeTeam.values)\n",
    "L1_all['AwayTeam'] = le.fit_transform(data2.AwayTeam.values)\n",
    "L2_all['FTR'] = le.fit_transform(data2.FTR.values)"
   ]
  },
  {
   "cell_type": "code",
   "execution_count": 71,
   "metadata": {},
   "outputs": [
    {
     "data": {
      "text/html": [
       "<div>\n",
       "<style scoped>\n",
       "    .dataframe tbody tr th:only-of-type {\n",
       "        vertical-align: middle;\n",
       "    }\n",
       "\n",
       "    .dataframe tbody tr th {\n",
       "        vertical-align: top;\n",
       "    }\n",
       "\n",
       "    .dataframe thead th {\n",
       "        text-align: right;\n",
       "    }\n",
       "</style>\n",
       "<table border=\"1\" class=\"dataframe\">\n",
       "  <thead>\n",
       "    <tr style=\"text-align: right;\">\n",
       "      <th></th>\n",
       "      <th>HomeTeam</th>\n",
       "      <th>AwayTeam</th>\n",
       "      <th>HTHG</th>\n",
       "      <th>HTAG</th>\n",
       "      <th>HTR_A</th>\n",
       "      <th>HTR_D</th>\n",
       "      <th>HTR_H</th>\n",
       "    </tr>\n",
       "  </thead>\n",
       "  <tbody>\n",
       "    <tr>\n",
       "      <th>0</th>\n",
       "      <td>4</td>\n",
       "      <td>12</td>\n",
       "      <td>0</td>\n",
       "      <td>1</td>\n",
       "      <td>1</td>\n",
       "      <td>0</td>\n",
       "      <td>0</td>\n",
       "    </tr>\n",
       "    <tr>\n",
       "      <th>1</th>\n",
       "      <td>9</td>\n",
       "      <td>17</td>\n",
       "      <td>0</td>\n",
       "      <td>0</td>\n",
       "      <td>0</td>\n",
       "      <td>1</td>\n",
       "      <td>0</td>\n",
       "    </tr>\n",
       "    <tr>\n",
       "      <th>2</th>\n",
       "      <td>3</td>\n",
       "      <td>0</td>\n",
       "      <td>0</td>\n",
       "      <td>0</td>\n",
       "      <td>0</td>\n",
       "      <td>1</td>\n",
       "      <td>0</td>\n",
       "    </tr>\n",
       "    <tr>\n",
       "      <th>3</th>\n",
       "      <td>5</td>\n",
       "      <td>7</td>\n",
       "      <td>0</td>\n",
       "      <td>1</td>\n",
       "      <td>1</td>\n",
       "      <td>0</td>\n",
       "      <td>0</td>\n",
       "    </tr>\n",
       "    <tr>\n",
       "      <th>4</th>\n",
       "      <td>19</td>\n",
       "      <td>15</td>\n",
       "      <td>1</td>\n",
       "      <td>1</td>\n",
       "      <td>0</td>\n",
       "      <td>1</td>\n",
       "      <td>0</td>\n",
       "    </tr>\n",
       "    <tr>\n",
       "      <th>...</th>\n",
       "      <td>...</td>\n",
       "      <td>...</td>\n",
       "      <td>...</td>\n",
       "      <td>...</td>\n",
       "      <td>...</td>\n",
       "      <td>...</td>\n",
       "      <td>...</td>\n",
       "    </tr>\n",
       "    <tr>\n",
       "      <th>375</th>\n",
       "      <td>12</td>\n",
       "      <td>2</td>\n",
       "      <td>2</td>\n",
       "      <td>0</td>\n",
       "      <td>0</td>\n",
       "      <td>0</td>\n",
       "      <td>1</td>\n",
       "    </tr>\n",
       "    <tr>\n",
       "      <th>376</th>\n",
       "      <td>14</td>\n",
       "      <td>1</td>\n",
       "      <td>1</td>\n",
       "      <td>0</td>\n",
       "      <td>0</td>\n",
       "      <td>0</td>\n",
       "      <td>1</td>\n",
       "    </tr>\n",
       "    <tr>\n",
       "      <th>377</th>\n",
       "      <td>17</td>\n",
       "      <td>16</td>\n",
       "      <td>0</td>\n",
       "      <td>1</td>\n",
       "      <td>1</td>\n",
       "      <td>0</td>\n",
       "      <td>0</td>\n",
       "    </tr>\n",
       "    <tr>\n",
       "      <th>378</th>\n",
       "      <td>6</td>\n",
       "      <td>3</td>\n",
       "      <td>2</td>\n",
       "      <td>2</td>\n",
       "      <td>0</td>\n",
       "      <td>1</td>\n",
       "      <td>0</td>\n",
       "    </tr>\n",
       "    <tr>\n",
       "      <th>379</th>\n",
       "      <td>13</td>\n",
       "      <td>4</td>\n",
       "      <td>0</td>\n",
       "      <td>0</td>\n",
       "      <td>0</td>\n",
       "      <td>1</td>\n",
       "      <td>0</td>\n",
       "    </tr>\n",
       "  </tbody>\n",
       "</table>\n",
       "<p>380 rows × 7 columns</p>\n",
       "</div>"
      ],
      "text/plain": [
       "     HomeTeam  AwayTeam  HTHG  HTAG  HTR_A  HTR_D  HTR_H\n",
       "0           4        12     0     1      1      0      0\n",
       "1           9        17     0     0      0      1      0\n",
       "2           3         0     0     0      0      1      0\n",
       "3           5         7     0     1      1      0      0\n",
       "4          19        15     1     1      0      1      0\n",
       "..        ...       ...   ...   ...    ...    ...    ...\n",
       "375        12         2     2     0      0      0      1\n",
       "376        14         1     1     0      0      0      1\n",
       "377        17        16     0     1      1      0      0\n",
       "378         6         3     2     2      0      1      0\n",
       "379        13         4     0     0      0      1      0\n",
       "\n",
       "[380 rows x 7 columns]"
      ]
     },
     "execution_count": 71,
     "metadata": {},
     "output_type": "execute_result"
    }
   ],
   "source": [
    "L1_all\n"
   ]
  },
  {
   "cell_type": "code",
   "execution_count": 72,
   "metadata": {},
   "outputs": [
    {
     "data": {
      "text/html": [
       "<div>\n",
       "<style scoped>\n",
       "    .dataframe tbody tr th:only-of-type {\n",
       "        vertical-align: middle;\n",
       "    }\n",
       "\n",
       "    .dataframe tbody tr th {\n",
       "        vertical-align: top;\n",
       "    }\n",
       "\n",
       "    .dataframe thead th {\n",
       "        text-align: right;\n",
       "    }\n",
       "</style>\n",
       "<table border=\"1\" class=\"dataframe\">\n",
       "  <thead>\n",
       "    <tr style=\"text-align: right;\">\n",
       "      <th></th>\n",
       "      <th>FTR</th>\n",
       "    </tr>\n",
       "  </thead>\n",
       "  <tbody>\n",
       "    <tr>\n",
       "      <th>0</th>\n",
       "      <td>0</td>\n",
       "    </tr>\n",
       "    <tr>\n",
       "      <th>1</th>\n",
       "      <td>1</td>\n",
       "    </tr>\n",
       "    <tr>\n",
       "      <th>2</th>\n",
       "      <td>2</td>\n",
       "    </tr>\n",
       "    <tr>\n",
       "      <th>3</th>\n",
       "      <td>1</td>\n",
       "    </tr>\n",
       "    <tr>\n",
       "      <th>4</th>\n",
       "      <td>0</td>\n",
       "    </tr>\n",
       "    <tr>\n",
       "      <th>...</th>\n",
       "      <td>...</td>\n",
       "    </tr>\n",
       "    <tr>\n",
       "      <th>375</th>\n",
       "      <td>1</td>\n",
       "    </tr>\n",
       "    <tr>\n",
       "      <th>376</th>\n",
       "      <td>2</td>\n",
       "    </tr>\n",
       "    <tr>\n",
       "      <th>377</th>\n",
       "      <td>0</td>\n",
       "    </tr>\n",
       "    <tr>\n",
       "      <th>378</th>\n",
       "      <td>1</td>\n",
       "    </tr>\n",
       "    <tr>\n",
       "      <th>379</th>\n",
       "      <td>0</td>\n",
       "    </tr>\n",
       "  </tbody>\n",
       "</table>\n",
       "<p>380 rows × 1 columns</p>\n",
       "</div>"
      ],
      "text/plain": [
       "     FTR\n",
       "0      0\n",
       "1      1\n",
       "2      2\n",
       "3      1\n",
       "4      0\n",
       "..   ...\n",
       "375    1\n",
       "376    2\n",
       "377    0\n",
       "378    1\n",
       "379    0\n",
       "\n",
       "[380 rows x 1 columns]"
      ]
     },
     "execution_count": 72,
     "metadata": {},
     "output_type": "execute_result"
    }
   ],
   "source": [
    "L2_all"
   ]
  },
  {
   "cell_type": "code",
   "execution_count": 73,
   "metadata": {},
   "outputs": [],
   "source": [
    "from sklearn.preprocessing import StandardScaler\n",
    "\n",
    "scaler = StandardScaler().fit(L1_all)\n",
    "\n",
    "L1_all= scaler.transform(L1_all)\n"
   ]
  },
  {
   "cell_type": "code",
   "execution_count": 74,
   "metadata": {},
   "outputs": [
    {
     "data": {
      "text/plain": [
       "array([[-0.95382097,  0.43355498, -0.7998839 , ...,  1.70807663,\n",
       "        -0.86204366, -0.68350674],\n",
       "       [-0.086711  ,  1.30066495, -0.7998839 , ..., -0.58545383,\n",
       "         1.16003406, -0.68350674],\n",
       "       [-1.12724296, -1.64750894, -0.7998839 , ..., -0.58545383,\n",
       "         1.16003406, -0.68350674],\n",
       "       ...,\n",
       "       [ 1.30066495,  1.12724296, -0.7998839 , ...,  1.70807663,\n",
       "        -0.86204366, -0.68350674],\n",
       "       [-0.60697698, -1.12724296,  2.1368879 , ..., -0.58545383,\n",
       "         1.16003406, -0.68350674],\n",
       "       [ 0.60697698, -0.95382097, -0.7998839 , ..., -0.58545383,\n",
       "         1.16003406, -0.68350674]])"
      ]
     },
     "execution_count": 74,
     "metadata": {},
     "output_type": "execute_result"
    }
   ],
   "source": [
    "L1_all"
   ]
  },
  {
   "cell_type": "markdown",
   "metadata": {},
   "source": [
    "Now, converting L1_all and L2_all into arrays"
   ]
  },
  {
   "cell_type": "code",
   "execution_count": 75,
   "metadata": {},
   "outputs": [],
   "source": [
    "L1_all= np.squeeze(np.asarray(L1_all))\n",
    "L2_all= np.squeeze(np.asarray(L2_all))"
   ]
  },
  {
   "cell_type": "code",
   "execution_count": 76,
   "metadata": {},
   "outputs": [
    {
     "data": {
      "text/plain": [
       "array([[-0.95382097,  0.43355498, -0.7998839 , ...,  1.70807663,\n",
       "        -0.86204366, -0.68350674],\n",
       "       [-0.086711  ,  1.30066495, -0.7998839 , ..., -0.58545383,\n",
       "         1.16003406, -0.68350674],\n",
       "       [-1.12724296, -1.64750894, -0.7998839 , ..., -0.58545383,\n",
       "         1.16003406, -0.68350674],\n",
       "       ...,\n",
       "       [ 1.30066495,  1.12724296, -0.7998839 , ...,  1.70807663,\n",
       "        -0.86204366, -0.68350674],\n",
       "       [-0.60697698, -1.12724296,  2.1368879 , ..., -0.58545383,\n",
       "         1.16003406, -0.68350674],\n",
       "       [ 0.60697698, -0.95382097, -0.7998839 , ..., -0.58545383,\n",
       "         1.16003406, -0.68350674]])"
      ]
     },
     "execution_count": 76,
     "metadata": {},
     "output_type": "execute_result"
    }
   ],
   "source": [
    "L1_all"
   ]
  },
  {
   "cell_type": "code",
   "execution_count": 77,
   "metadata": {},
   "outputs": [
    {
     "data": {
      "text/plain": [
       "array([0, 1, 2, 1, 0, 0, 2, 0, 2, 1, 2, 1, 1, 2, 0, 2, 0, 1, 1, 0, 2, 1,\n",
       "       0, 2, 2, 2, 2, 2, 1, 0, 1, 1, 0, 1, 2, 0, 0, 0, 2, 0, 1, 2, 0, 2,\n",
       "       0, 1, 1, 0, 1, 2, 2, 1, 0, 2, 2, 1, 1, 0, 2, 1, 1, 0, 1, 0, 2, 1,\n",
       "       2, 0, 1, 0, 2, 0, 0, 2, 2, 2, 2, 1, 2, 0, 2, 0, 1, 1, 0, 1, 0, 0,\n",
       "       1, 1, 1, 1, 2, 2, 2, 2, 2, 2, 2, 2, 1, 2, 0, 0, 1, 2, 1, 1, 1, 2,\n",
       "       0, 2, 0, 1, 1, 2, 0, 0, 2, 1, 2, 1, 2, 1, 2, 1, 0, 2, 2, 2, 2, 2,\n",
       "       2, 2, 0, 1, 2, 2, 1, 2, 1, 2, 0, 1, 0, 2, 1, 0, 0, 2, 1, 1, 2, 2,\n",
       "       0, 0, 1, 0, 2, 1, 1, 0, 1, 2, 2, 1, 1, 2, 2, 1, 2, 1, 2, 2, 0, 1,\n",
       "       0, 0, 1, 0, 2, 1, 2, 1, 0, 2, 2, 2, 0, 2, 2, 0, 0, 2, 2, 2, 2, 1,\n",
       "       1, 2, 2, 1, 2, 2, 2, 0, 0, 1, 2, 0, 2, 1, 2, 1, 2, 2, 2, 2, 1, 0,\n",
       "       1, 0, 2, 2, 0, 1, 2, 1, 1, 2, 1, 2, 0, 2, 0, 1, 0, 1, 2, 0, 1, 1,\n",
       "       2, 2, 0, 2, 1, 0, 0, 1, 0, 2, 2, 0, 0, 0, 2, 0, 2, 2, 1, 1, 2, 2,\n",
       "       2, 0, 0, 0, 2, 0, 1, 2, 0, 0, 2, 0, 0, 0, 1, 2, 0, 0, 2, 2, 0, 1,\n",
       "       2, 0, 1, 1, 2, 1, 1, 2, 2, 1, 2, 2, 2, 2, 2, 0, 2, 2, 1, 2, 2, 2,\n",
       "       1, 0, 2, 2, 1, 2, 2, 0, 1, 2, 1, 1, 1, 2, 2, 0, 1, 0, 2, 1, 2, 2,\n",
       "       0, 2, 2, 2, 1, 0, 2, 1, 2, 0, 1, 2, 2, 1, 2, 2, 0, 2, 1, 1, 0, 0,\n",
       "       2, 2, 2, 2, 2, 0, 2, 2, 2, 1, 2, 2, 0, 0, 2, 2, 0, 2, 2, 1, 2, 1,\n",
       "       2, 1, 2, 0, 1, 0])"
      ]
     },
     "execution_count": 77,
     "metadata": {},
     "output_type": "execute_result"
    }
   ],
   "source": [
    "L2_all"
   ]
  },
  {
   "cell_type": "markdown",
   "metadata": {},
   "source": [
    "Now we will feed L1_all into our model using model.predict_classes()"
   ]
  },
  {
   "cell_type": "code",
   "execution_count": 78,
   "metadata": {},
   "outputs": [],
   "source": [
    "pred=model.predict_classes(L1_all[:])"
   ]
  },
  {
   "cell_type": "code",
   "execution_count": 79,
   "metadata": {},
   "outputs": [
    {
     "name": "stdout",
     "output_type": "stream",
     "text": [
      "[0 2 1 0 2 0 2 0 2 0 2 0 1 1 1 2 2 2 1 0 2 2 1 1 2 0 2 1 2 0 2 1 2 1 1 2 0\n",
      " 1 2 2 2 1 0 2 0 2 0 0 2 2 1 0 1 0 2 2 1 1 1 0 0 1 1 0 1 0 2 2 2 2 1 1 2 2\n",
      " 1 2 2 1 2 1 2 0 1 1 0 2 0 1 1 2 0 1 2 2 2 2 0 2 1 1 1 2 1 1 2 0 1 2 1 2 2\n",
      " 0 2 1 1 2 0 0 0 2 2 1 2 2 2 1 0 2 1 2 1 2 1 2 0 2 2 2 2 2 0 2 0 2 0 2 0 0\n",
      " 0 1 1 0 2 2 0 2 2 0 1 1 1 0 2 1 2 2 2 2 2 0 2 0 2 1 0 2 0 0 2 2 2 2 1 2 1\n",
      " 2 1 2 0 2 2 2 0 2 2 0 2 2 0 2 2 0 1 2 2 0 0 1 0 1 2 0 1 1 2 1 2 2 2 0 2 0\n",
      " 0 2 0 1 2 0 2 2 0 2 0 1 1 2 2 1 2 0 2 1 2 2 2 2 0 0 0 2 0 2 2 0 1 0 1 0 1\n",
      " 2 0 1 1 2 0 1 2 2 2 2 2 1 2 0 1 0 2 1 1 0 2 0 1 0 1 2 2 0 2 2 1 1 0 2 0 0\n",
      " 2 2 2 2 1 1 0 2 2 2 0 1 2 2 2 2 1 2 2 0 2 2 2 2 2 2 2 1 1 0 2 0 1 1 1 1 1\n",
      " 2 2 0 2 1 2 2 2 1 1 1 1 2 1 2 2 0 0 0 1 2 2 2 2 0 2 2 2 2 2 2 1 0 2 2 0 1\n",
      " 2 0 1 2 0 2 2 0 2 1]\n"
     ]
    }
   ],
   "source": [
    "print(pred)"
   ]
  },
  {
   "cell_type": "markdown",
   "metadata": {},
   "source": [
    "These are our **PREDICTED** outcomes"
   ]
  },
  {
   "cell_type": "code",
   "execution_count": 80,
   "metadata": {},
   "outputs": [
    {
     "name": "stdout",
     "output_type": "stream",
     "text": [
      "[0 1 2 1 0 0 2 0 2 1 2 1 1 2 0 2 0 1 1 0 2 1 0 2 2 2 2 2 1 0 1 1 0 1 2 0 0\n",
      " 0 2 0 1 2 0 2 0 1 1 0 1 2 2 1 0 2 2 1 1 0 2 1 1 0 1 0 2 1 2 0 1 0 2 0 0 2\n",
      " 2 2 2 1 2 0 2 0 1 1 0 1 0 0 1 1 1 1 2 2 2 2 2 2 2 2 1 2 0 0 1 2 1 1 1 2 0\n",
      " 2 0 1 1 2 0 0 2 1 2 1 2 1 2 1 0 2 2 2 2 2 2 2 0 1 2 2 1 2 1 2 0 1 0 2 1 0\n",
      " 0 2 1 1 2 2 0 0 1 0 2 1 1 0 1 2 2 1 1 2 2 1 2 1 2 2 0 1 0 0 1 0 2 1 2 1 0\n",
      " 2 2 2 0 2 2 0 0 2 2 2 2 1 1 2 2 1 2 2 2 0 0 1 2 0 2 1 2 1 2 2 2 2 1 0 1 0\n",
      " 2 2 0 1 2 1 1 2 1 2 0 2 0 1 0 1 2 0 1 1 2 2 0 2 1 0 0 1 0 2 2 0 0 0 2 0 2\n",
      " 2 1 1 2 2 2 0 0 0 2 0 1 2 0 0 2 0 0 0 1 2 0 0 2 2 0 1 2 0 1 1 2 1 1 2 2 1\n",
      " 2 2 2 2 2 0 2 2 1 2 2 2 1 0 2 2 1 2 2 0 1 2 1 1 1 2 2 0 1 0 2 1 2 2 0 2 2\n",
      " 2 1 0 2 1 2 0 1 2 2 1 2 2 0 2 1 1 0 0 2 2 2 2 2 0 2 2 2 1 2 2 0 0 2 2 0 2\n",
      " 2 1 2 1 2 1 2 0 1 0]\n"
     ]
    }
   ],
   "source": [
    "print(L2_all[:])"
   ]
  },
  {
   "cell_type": "code",
   "execution_count": 81,
   "metadata": {},
   "outputs": [
    {
     "name": "stdout",
     "output_type": "stream",
     "text": [
      "380/380 [==============================] - 0s 26us/sample - loss: 0.9483 - acc: 0.5132\n",
      "test_acc: 0.5131579 test_loss 0.9482891854486968\n"
     ]
    }
   ],
   "source": [
    "test_loss, test_acc = model.evaluate(L1_all, L2_all)\n",
    "print('test_acc:', test_acc, 'test_loss', test_loss)"
   ]
  },
  {
   "cell_type": "markdown",
   "metadata": {},
   "source": [
    "**So as we can see, Our model's accuracy on La Liga's dataset was 51.58%**"
   ]
  },
  {
   "cell_type": "code",
   "execution_count": 84,
   "metadata": {},
   "outputs": [],
   "source": [
    "def compare2(y_pred, model_name):\n",
    "    test_values=[np.count_nonzero(L2_all==0),np.count_nonzero(L2_all==1), np.count_nonzero(L2_all==2)]\n",
    "    pred_values=[np.count_nonzero(y_pred==0),np.count_nonzero(y_pred==1), np.count_nonzero(y_pred==2)]\n",
    "    plt.figure()\n",
    "    N=3\n",
    "    width=0.35\n",
    "    idx=np.arange(N)\n",
    "    plt.bar(idx, test_values, width, label='True Vals')\n",
    "    plt.bar(idx+width, pred_values, width, label='Predicted Vals')\n",
    "    plt.ylabel('Number of Matches')\n",
    "    plt.title(f'{model_name} Performance Measure per Category')\n",
    "    plt.xticks(idx + width / 2, ('Away', 'Draw', 'Home'))\n",
    "    plt.legend(loc='best')\n",
    "    plt.show()"
   ]
  },
  {
   "cell_type": "code",
   "execution_count": 85,
   "metadata": {},
   "outputs": [
    {
     "data": {
      "image/png": "[encoded data removed]",
      "text/plain": [
       "<Figure size 432x288 with 1 Axes>"
      ]
     },
     "metadata": {
      "needs_background": "light"
     },
     "output_type": "display_data"
    }
   ],
   "source": [
    "compare2(pred, 'ANN')"
   ]
  },
  {
   "cell_type": "code",
   "execution_count": null,
   "metadata": {},
   "outputs": [],
   "source": []
  }
 ],
 "metadata": {
  "kernelspec": {
   "display_name": "Python 3",
   "language": "python",
   "name": "python3"
  },
  "language_info": {
   "codemirror_mode": {
    "name": "ipython",
    "version": 3
   },
   "file_extension": ".py",
   "mimetype": "text/x-python",
   "name": "python",
   "nbconvert_exporter": "python",
   "pygments_lexer": "ipython3",
   "version": "3.7.6"
  }
 },
 "nbformat": 4,
 "nbformat_minor": 2
}
